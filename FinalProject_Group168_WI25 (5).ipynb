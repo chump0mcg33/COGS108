{
 "cells": [
  {
   "cell_type": "markdown",
   "metadata": {},
   "source": [
    "# COGS 108 - Significant Factors that Contribute to Housing Price in San Diego, CA\n",
    "\n",
    "# Permissions\n",
    "\n",
    "Place an `X` in the appropriate bracket below to specify if you would like your group's project to be made available to the public. (Note that student names will be included (but PIDs will be scraped from any groups who include their PIDs).\n",
    "\n",
    "* [ X ] YES - make available\n",
    "* [  ] NO - keep private\n",
    "\n",
    "# Names\n",
    "\n",
    "- Ethan Jensen\n",
    "- Katherine Gao\n",
    "- Shawn Phua\n",
    "- Shawn Summerville\n",
    "\n",
    "# Abstract\n",
    "\n",
    "As students at UC San Diego, many of us have considered staying in the area beyond graduation. With some of us actively searching for housing while continuing our education, we wanted to better understand what drives housing prices in San Diego. Given the challenges of affordability, our goal was to analyze the key factors that impact housing costs and provide insights that could help students and others navigate the rental and housing market.\n",
    "\n",
    "Using real estate data, we examined variables such as price, number of bedrooms and bathrooms, lot size, house size, and location to identify trends in housing affordability. Our analysis sheds light on how these factors influence housing costs and what students should consider when searching for a place to live. By understanding these patterns, we hope to offer a clearer perspective on the San Diego housing market and help students make more informed housing decisions."
   ]
  },
  {
   "cell_type": "markdown",
   "metadata": {},
   "source": [
    "# Research Question"
   ]
  },
  {
   "cell_type": "markdown",
   "metadata": {},
   "source": [
    "For single-family homes sold in San Diego County between 2000-2025, which physical attributes (square footage, bedrooms, bathrooms, lot size, age), location characteristics (school ratings, crime rates, distance to coast), and neighborhood features (median income, walkability score) are the strongest predictors of final sale prices?"
   ]
  },
  {
   "cell_type": "markdown",
   "metadata": {},
   "source": [
    "## Background and Prior Work"
   ]
  },
  {
   "cell_type": "markdown",
   "metadata": {},
   "source": [
    "For UCSD students, it's been really rough finding housing at an affordable price here in San Diego. We wanted to know what features to potentially skip out on, or determine how to better find cheaper homes. San Diego's housing market is one of the most dynamic and competitive in California, driven by limited inventory, high demand (esp. around colleges), and its desirable location by the beach<a name=\\\"cite_ref-1\\\"></a>[<sup>1</sup>](#cite_note-1). With rapid urban development and shifting demographics, property attributes like square footage, number of bedrooms and bathrooms, property age, and neighborhood quality are believed to significantly influence housing sale prices. We aim to see which features are the most important in determining price.\n",
    "\n",
    "Previous research in similar urban coastal regions has demonstrated that property features play a critical role in determining sale prices. A study focused on the San Francisco Bay Area found that larger homes and those situated in highly desirable neighborhoods tend have significantly higher prices<a name=\\\"cite_ref-2\\\"></a>[<sup>2</sup>](#cite_note-2). Additionally, reports from the California Association of Realtors have highlighted that microeconomic factors (local economic conditions, neighborhood amenities, etc.) substantially affect housing prices across the state<a name=\\\"cite_ref-3\\\"></a>[<sup>3</sup>](#cite_note-3). We believe the information can be determined from analyzing San Diego, especially as a resident, with data related to a property's qualities and price<a name=\\\"cite_ref-4\\\"></a>[<sup>4</sup>](#cite_note-4)\n",
    "\n",
    "Despite these findings, many existing studies either concentrate on broader statewide trends or rely on aggregated data that can obscure local variations. Our study aims to fill this gap by focusing specifically on San Diego's market using detailed housing transaction data from Kaggle. By applying both exploratory data analysis and predictive modeling, we intend to quantify the influence of each property feature on sale prices, thereby providing targeted insights into this unique market environment.\\n\",\n",
    "\n",
    "**References**\n",
    "\n",
    "<a name=\\\"cite_note-1\\\"></a>[<sup>1</sup>](#cite_ref-1) Zillow. (2023). *San Diego, CA Home Prices & Home Values*. Retrieved from [https://www.zillow.com/san-diego-ca/home-values/](https://www.zillow.com/san-diego-ca/home-values/)\n",
    "\n",
    "<a name=\\\"cite_note-2\\\"></a>[<sup>2</sup>](#cite_ref-2) Redfin. (2022). *San Francisco Housing Market Trends*. Retrieved from [https://www.redfin.com/blog/san-francisco-housing-market/](https://www.redfin.com/blog/san-francisco-housing-market/)\n",
    "\n",
    "<a name=\\\"cite_note-3\\\"></a>[<sup>3</sup>](#cite_ref-3) California Association of Realtors. (2022). *California Housing Market Data*. Retrieved from [https://www.car.org/marketdata/interactive/housingmarketoverview](https://www.car.org/marketdata/interactive/housingmarketoverview)\n",
    "\n",
    "<a name=\\\"cite_note-4\\\"></a>[<sup>4</sup>](#cite_ref-4) Kaggle. (2021). *San Diego Housing Prices Dataset*. Retrieved from [https://www.kaggle.com/datasets/ibtesamaez/san-diego-housing](https://www.kaggle.com/datasets/ibtesamaez/san-diego-housing)\\n\""
   ]
  },
  {
   "cell_type": "markdown",
   "metadata": {},
   "source": [
    "# Hypothesis\n"
   ]
  },
  {
   "cell_type": "markdown",
   "metadata": {},
   "source": [
    "Our hypothesize that property features related to area, specifically, square footage and the number of bedrooms and bathrooms, will exhibit a strong positive correlation with sale prices in San Diego. Larger homes and those located in more desirable neighborhoods (e.g., closer to the beach, colleges, and local amenities) are expected to have higher sales prices, even after accounting for other factors such as property age and lot size.\n",
    "\n",
    "We believe that larger properties offer more living space and convenience, which naturally makes it more valuable, while desirable locations contribute value due to lifestyle and accessibility, so we expect to see a positive relationship between these property attributes and housing sale prices."
   ]
  },
  {
   "cell_type": "markdown",
   "metadata": {},
   "source": [
    "# Data"
   ]
  },
  {
   "cell_type": "markdown",
   "metadata": {},
   "source": [
    "## Data overview\n",
    "\n",
    "USA Real Estate Dataset\n",
    "  - Dataset Description: Real Estate listings (2.2M+) in the US broken by State and zip code\n",
    "  - Link to the dataset: https://www.kaggle.com/datasets/ahmedshahriarsakib/usa-real-estate-dataset\n",
    "  - Number of observations: 2,226,382\n",
    "  - Number of variables: 12 (used 7)\n",
    "- This dataset contains individual US house listings on realtor.com with information about price, location, bed, bath, lot size, and sale history."
   ]
  },
  {
   "cell_type": "code",
   "execution_count": 1,
   "metadata": {},
   "outputs": [],
   "source": [
    "#preparing for data cleaning\n",
    "\n",
    "import pandas as pd\n",
    "import numpy as np"
   ]
  },
  {
   "cell_type": "markdown",
   "metadata": {},
   "source": [
    "## USA Real Estate Dataset"
   ]
  },
  {
   "cell_type": "code",
   "execution_count": 2,
   "metadata": {},
   "outputs": [
    {
     "data": {
      "text/html": [
       "<div>\n",
       "<style scoped>\n",
       "    .dataframe tbody tr th:only-of-type {\n",
       "        vertical-align: middle;\n",
       "    }\n",
       "\n",
       "    .dataframe tbody tr th {\n",
       "        vertical-align: top;\n",
       "    }\n",
       "\n",
       "    .dataframe thead th {\n",
       "        text-align: right;\n",
       "    }\n",
       "</style>\n",
       "<table border=\"1\" class=\"dataframe\">\n",
       "  <thead>\n",
       "    <tr style=\"text-align: right;\">\n",
       "      <th></th>\n",
       "      <th>brokered_by</th>\n",
       "      <th>status</th>\n",
       "      <th>price</th>\n",
       "      <th>bed</th>\n",
       "      <th>bath</th>\n",
       "      <th>acre_lot</th>\n",
       "      <th>street</th>\n",
       "      <th>city</th>\n",
       "      <th>state</th>\n",
       "      <th>zip_code</th>\n",
       "      <th>house_size</th>\n",
       "      <th>prev_sold_date</th>\n",
       "    </tr>\n",
       "  </thead>\n",
       "  <tbody>\n",
       "    <tr>\n",
       "      <th>0</th>\n",
       "      <td>103378.0</td>\n",
       "      <td>for_sale</td>\n",
       "      <td>105000.0</td>\n",
       "      <td>3.0</td>\n",
       "      <td>2.0</td>\n",
       "      <td>0.12</td>\n",
       "      <td>1962661.0</td>\n",
       "      <td>Adjuntas</td>\n",
       "      <td>Puerto Rico</td>\n",
       "      <td>601.0</td>\n",
       "      <td>920.0</td>\n",
       "      <td>NaN</td>\n",
       "    </tr>\n",
       "    <tr>\n",
       "      <th>1</th>\n",
       "      <td>52707.0</td>\n",
       "      <td>for_sale</td>\n",
       "      <td>80000.0</td>\n",
       "      <td>4.0</td>\n",
       "      <td>2.0</td>\n",
       "      <td>0.08</td>\n",
       "      <td>1902874.0</td>\n",
       "      <td>Adjuntas</td>\n",
       "      <td>Puerto Rico</td>\n",
       "      <td>601.0</td>\n",
       "      <td>1527.0</td>\n",
       "      <td>NaN</td>\n",
       "    </tr>\n",
       "    <tr>\n",
       "      <th>2</th>\n",
       "      <td>103379.0</td>\n",
       "      <td>for_sale</td>\n",
       "      <td>67000.0</td>\n",
       "      <td>2.0</td>\n",
       "      <td>1.0</td>\n",
       "      <td>0.15</td>\n",
       "      <td>1404990.0</td>\n",
       "      <td>Juana Diaz</td>\n",
       "      <td>Puerto Rico</td>\n",
       "      <td>795.0</td>\n",
       "      <td>748.0</td>\n",
       "      <td>NaN</td>\n",
       "    </tr>\n",
       "    <tr>\n",
       "      <th>3</th>\n",
       "      <td>31239.0</td>\n",
       "      <td>for_sale</td>\n",
       "      <td>145000.0</td>\n",
       "      <td>4.0</td>\n",
       "      <td>2.0</td>\n",
       "      <td>0.10</td>\n",
       "      <td>1947675.0</td>\n",
       "      <td>Ponce</td>\n",
       "      <td>Puerto Rico</td>\n",
       "      <td>731.0</td>\n",
       "      <td>1800.0</td>\n",
       "      <td>NaN</td>\n",
       "    </tr>\n",
       "    <tr>\n",
       "      <th>4</th>\n",
       "      <td>34632.0</td>\n",
       "      <td>for_sale</td>\n",
       "      <td>65000.0</td>\n",
       "      <td>6.0</td>\n",
       "      <td>2.0</td>\n",
       "      <td>0.05</td>\n",
       "      <td>331151.0</td>\n",
       "      <td>Mayaguez</td>\n",
       "      <td>Puerto Rico</td>\n",
       "      <td>680.0</td>\n",
       "      <td>NaN</td>\n",
       "      <td>NaN</td>\n",
       "    </tr>\n",
       "  </tbody>\n",
       "</table>\n",
       "</div>"
      ],
      "text/plain": [
       "   brokered_by    status     price  bed  bath  acre_lot     street  \\\n",
       "0     103378.0  for_sale  105000.0  3.0   2.0      0.12  1962661.0   \n",
       "1      52707.0  for_sale   80000.0  4.0   2.0      0.08  1902874.0   \n",
       "2     103379.0  for_sale   67000.0  2.0   1.0      0.15  1404990.0   \n",
       "3      31239.0  for_sale  145000.0  4.0   2.0      0.10  1947675.0   \n",
       "4      34632.0  for_sale   65000.0  6.0   2.0      0.05   331151.0   \n",
       "\n",
       "         city        state  zip_code  house_size prev_sold_date  \n",
       "0    Adjuntas  Puerto Rico     601.0       920.0            NaN  \n",
       "1    Adjuntas  Puerto Rico     601.0      1527.0            NaN  \n",
       "2  Juana Diaz  Puerto Rico     795.0       748.0            NaN  \n",
       "3       Ponce  Puerto Rico     731.0      1800.0            NaN  \n",
       "4    Mayaguez  Puerto Rico     680.0         NaN            NaN  "
      ]
     },
     "execution_count": 2,
     "metadata": {},
     "output_type": "execute_result"
    }
   ],
   "source": [
    "# read in dataset - note that it is very large and may take a while\n",
    "realtor = pd.read_csv('realtor-data.csv')\n",
    "\n",
    "realtor.head()"
   ]
  },
  {
   "cell_type": "code",
   "execution_count": 3,
   "metadata": {},
   "outputs": [
    {
     "data": {
      "text/plain": [
       "array(['for_sale', 'ready_to_build', 'sold'], dtype=object)"
      ]
     },
     "execution_count": 3,
     "metadata": {},
     "output_type": "execute_result"
    }
   ],
   "source": [
    "# check property status\n",
    "realtor['status'].unique()"
   ]
  },
  {
   "cell_type": "markdown",
   "metadata": {},
   "source": [
    "We noticed that there are properties that have the status 'ready_to_build' which we are not interested in. We are only interested in houses with determined prices from being sold or for sale."
   ]
  },
  {
   "cell_type": "code",
   "execution_count": 4,
   "metadata": {},
   "outputs": [
    {
     "name": "stdout",
     "output_type": "stream",
     "text": [
      "We have eliminated 25067 properties that had status \"ready_to_build\"\n"
     ]
    }
   ],
   "source": [
    "num_properties = realtor.shape[0]\n",
    "# filter to constructed houses\n",
    "realtor = realtor[realtor['status'] != 'ready_to_build']\n",
    "print(f'We have eliminated {num_properties-realtor.shape[0]} properties that had status \"ready_to_build\"')"
   ]
  },
  {
   "cell_type": "markdown",
   "metadata": {},
   "source": [
    "We are not as interested in broker information so we filter the dataset to <code>price</code>, <code>bed</code>, <code>bath</code>, size (<code>acre_lot</code>), and location (<code>city</code>, <code>state</code>, <code>zip_code</code>)."
   ]
  },
  {
   "cell_type": "code",
   "execution_count": 5,
   "metadata": {},
   "outputs": [],
   "source": [
    "# remove unused variables\n",
    "realtor_sub=realtor[['price','bed','bath','acre_lot','city','state', 'zip_code', 'house_size']].reset_index(drop=True)"
   ]
  },
  {
   "cell_type": "markdown",
   "metadata": {},
   "source": [
    "We subset to San Diego as the primary focus of our research."
   ]
  },
  {
   "cell_type": "code",
   "execution_count": 6,
   "metadata": {},
   "outputs": [
    {
     "data": {
      "text/html": [
       "<div>\n",
       "<style scoped>\n",
       "    .dataframe tbody tr th:only-of-type {\n",
       "        vertical-align: middle;\n",
       "    }\n",
       "\n",
       "    .dataframe tbody tr th {\n",
       "        vertical-align: top;\n",
       "    }\n",
       "\n",
       "    .dataframe thead th {\n",
       "        text-align: right;\n",
       "    }\n",
       "</style>\n",
       "<table border=\"1\" class=\"dataframe\">\n",
       "  <thead>\n",
       "    <tr style=\"text-align: right;\">\n",
       "      <th></th>\n",
       "      <th>price</th>\n",
       "      <th>bed</th>\n",
       "      <th>bath</th>\n",
       "      <th>acre_lot</th>\n",
       "      <th>city</th>\n",
       "      <th>state</th>\n",
       "      <th>zip_code</th>\n",
       "      <th>house_size</th>\n",
       "    </tr>\n",
       "  </thead>\n",
       "  <tbody>\n",
       "    <tr>\n",
       "      <th>0</th>\n",
       "      <td>259900.0</td>\n",
       "      <td>2.0</td>\n",
       "      <td>3.0</td>\n",
       "      <td>NaN</td>\n",
       "      <td>San Diego</td>\n",
       "      <td>California</td>\n",
       "      <td>92154.0</td>\n",
       "      <td>1674.0</td>\n",
       "    </tr>\n",
       "    <tr>\n",
       "      <th>1</th>\n",
       "      <td>250000.0</td>\n",
       "      <td>3.0</td>\n",
       "      <td>2.0</td>\n",
       "      <td>13.95</td>\n",
       "      <td>San Diego</td>\n",
       "      <td>California</td>\n",
       "      <td>92154.0</td>\n",
       "      <td>1101.0</td>\n",
       "    </tr>\n",
       "    <tr>\n",
       "      <th>2</th>\n",
       "      <td>399000.0</td>\n",
       "      <td>4.0</td>\n",
       "      <td>2.0</td>\n",
       "      <td>0.20</td>\n",
       "      <td>San Diego</td>\n",
       "      <td>California</td>\n",
       "      <td>92114.0</td>\n",
       "      <td>1120.0</td>\n",
       "    </tr>\n",
       "    <tr>\n",
       "      <th>3</th>\n",
       "      <td>760000.0</td>\n",
       "      <td>NaN</td>\n",
       "      <td>NaN</td>\n",
       "      <td>0.06</td>\n",
       "      <td>San Diego</td>\n",
       "      <td>California</td>\n",
       "      <td>92115.0</td>\n",
       "      <td>NaN</td>\n",
       "    </tr>\n",
       "    <tr>\n",
       "      <th>4</th>\n",
       "      <td>1499000.0</td>\n",
       "      <td>9.0</td>\n",
       "      <td>5.0</td>\n",
       "      <td>0.46</td>\n",
       "      <td>San Diego</td>\n",
       "      <td>California</td>\n",
       "      <td>92114.0</td>\n",
       "      <td>3390.0</td>\n",
       "    </tr>\n",
       "  </tbody>\n",
       "</table>\n",
       "</div>"
      ],
      "text/plain": [
       "       price  bed  bath  acre_lot       city       state  zip_code  house_size\n",
       "0   259900.0  2.0   3.0       NaN  San Diego  California   92154.0      1674.0\n",
       "1   250000.0  3.0   2.0     13.95  San Diego  California   92154.0      1101.0\n",
       "2   399000.0  4.0   2.0      0.20  San Diego  California   92114.0      1120.0\n",
       "3   760000.0  NaN   NaN      0.06  San Diego  California   92115.0         NaN\n",
       "4  1499000.0  9.0   5.0      0.46  San Diego  California   92114.0      3390.0"
      ]
     },
     "execution_count": 6,
     "metadata": {},
     "output_type": "execute_result"
    }
   ],
   "source": [
    "# subset to San Diego, California only\n",
    "realtor_sd=realtor_sub[(realtor_sub['city'] == 'San Diego') & (realtor_sub['state'] == 'California')].reset_index(drop=True)\n",
    "\n",
    "realtor_sd.head()"
   ]
  },
  {
   "cell_type": "markdown",
   "metadata": {},
   "source": [
    "Next, we remove null duplicate values to be able to do quantitative analysis."
   ]
  },
  {
   "cell_type": "code",
   "execution_count": 7,
   "metadata": {},
   "outputs": [
    {
     "data": {
      "text/plain": [
       "(4084, 8)"
      ]
     },
     "execution_count": 7,
     "metadata": {},
     "output_type": "execute_result"
    }
   ],
   "source": [
    "# remove null in all variables\n",
    "realtor_sd=realtor_sd.dropna(how='any').reset_index(drop=True)\n",
    "\n",
    "realtor_sd.shape"
   ]
  },
  {
   "cell_type": "code",
   "execution_count": 8,
   "metadata": {},
   "outputs": [
    {
     "name": "stdout",
     "output_type": "stream",
     "text": [
      "(3686, 8)\n"
     ]
    },
    {
     "data": {
      "text/html": [
       "<div>\n",
       "<style scoped>\n",
       "    .dataframe tbody tr th:only-of-type {\n",
       "        vertical-align: middle;\n",
       "    }\n",
       "\n",
       "    .dataframe tbody tr th {\n",
       "        vertical-align: top;\n",
       "    }\n",
       "\n",
       "    .dataframe thead th {\n",
       "        text-align: right;\n",
       "    }\n",
       "</style>\n",
       "<table border=\"1\" class=\"dataframe\">\n",
       "  <thead>\n",
       "    <tr style=\"text-align: right;\">\n",
       "      <th></th>\n",
       "      <th>price</th>\n",
       "      <th>bed</th>\n",
       "      <th>bath</th>\n",
       "      <th>acre_lot</th>\n",
       "      <th>city</th>\n",
       "      <th>state</th>\n",
       "      <th>zip_code</th>\n",
       "      <th>house_size</th>\n",
       "    </tr>\n",
       "  </thead>\n",
       "  <tbody>\n",
       "    <tr>\n",
       "      <th>0</th>\n",
       "      <td>250000.0</td>\n",
       "      <td>3.0</td>\n",
       "      <td>2.0</td>\n",
       "      <td>13.95</td>\n",
       "      <td>San Diego</td>\n",
       "      <td>California</td>\n",
       "      <td>92154.0</td>\n",
       "      <td>1101.0</td>\n",
       "    </tr>\n",
       "    <tr>\n",
       "      <th>1</th>\n",
       "      <td>399000.0</td>\n",
       "      <td>4.0</td>\n",
       "      <td>2.0</td>\n",
       "      <td>0.20</td>\n",
       "      <td>San Diego</td>\n",
       "      <td>California</td>\n",
       "      <td>92114.0</td>\n",
       "      <td>1120.0</td>\n",
       "    </tr>\n",
       "    <tr>\n",
       "      <th>2</th>\n",
       "      <td>1499000.0</td>\n",
       "      <td>9.0</td>\n",
       "      <td>5.0</td>\n",
       "      <td>0.46</td>\n",
       "      <td>San Diego</td>\n",
       "      <td>California</td>\n",
       "      <td>92114.0</td>\n",
       "      <td>3390.0</td>\n",
       "    </tr>\n",
       "    <tr>\n",
       "      <th>3</th>\n",
       "      <td>678888.0</td>\n",
       "      <td>3.0</td>\n",
       "      <td>2.0</td>\n",
       "      <td>0.11</td>\n",
       "      <td>San Diego</td>\n",
       "      <td>California</td>\n",
       "      <td>92114.0</td>\n",
       "      <td>2042.0</td>\n",
       "    </tr>\n",
       "    <tr>\n",
       "      <th>4</th>\n",
       "      <td>1199900.0</td>\n",
       "      <td>4.0</td>\n",
       "      <td>3.0</td>\n",
       "      <td>0.14</td>\n",
       "      <td>San Diego</td>\n",
       "      <td>California</td>\n",
       "      <td>92115.0</td>\n",
       "      <td>2160.0</td>\n",
       "    </tr>\n",
       "  </tbody>\n",
       "</table>\n",
       "</div>"
      ],
      "text/plain": [
       "       price  bed  bath  acre_lot       city       state  zip_code  house_size\n",
       "0   250000.0  3.0   2.0     13.95  San Diego  California   92154.0      1101.0\n",
       "1   399000.0  4.0   2.0      0.20  San Diego  California   92114.0      1120.0\n",
       "2  1499000.0  9.0   5.0      0.46  San Diego  California   92114.0      3390.0\n",
       "3   678888.0  3.0   2.0      0.11  San Diego  California   92114.0      2042.0\n",
       "4  1199900.0  4.0   3.0      0.14  San Diego  California   92115.0      2160.0"
      ]
     },
     "execution_count": 8,
     "metadata": {},
     "output_type": "execute_result"
    }
   ],
   "source": [
    "# remove duplicate listings from dataset\n",
    "sd_properties = realtor_sd.drop_duplicates(keep='first').reset_index(drop=True)\n",
    "\n",
    "print(sd_properties.shape)\n",
    "\n",
    "sd_properties.head()"
   ]
  },
  {
   "cell_type": "code",
   "execution_count": 9,
   "metadata": {},
   "outputs": [
    {
     "data": {
      "text/plain": [
       "price         float64\n",
       "bed           float64\n",
       "bath          float64\n",
       "acre_lot      float64\n",
       "city           object\n",
       "state          object\n",
       "zip_code      float64\n",
       "house_size    float64\n",
       "dtype: object"
      ]
     },
     "execution_count": 9,
     "metadata": {},
     "output_type": "execute_result"
    }
   ],
   "source": [
    "# check dtypes\n",
    "sd_properties.dtypes"
   ]
  },
  {
   "cell_type": "markdown",
   "metadata": {},
   "source": [
    "Finally, we convert <code>zip_code</code> to String as it is a categorical variable."
   ]
  },
  {
   "cell_type": "code",
   "execution_count": 10,
   "metadata": {},
   "outputs": [],
   "source": [
    "# convert zip code to string as it is categorical\n",
    "\n",
    "sd_properties['zip_code'] = sd_properties['zip_code'].astype(int).astype(str)"
   ]
  },
  {
   "cell_type": "code",
   "execution_count": 11,
   "metadata": {},
   "outputs": [
    {
     "data": {
      "text/plain": [
       "price         float64\n",
       "bed           float64\n",
       "bath          float64\n",
       "acre_lot      float64\n",
       "city           object\n",
       "state          object\n",
       "zip_code       object\n",
       "house_size    float64\n",
       "dtype: object"
      ]
     },
     "execution_count": 11,
     "metadata": {},
     "output_type": "execute_result"
    }
   ],
   "source": [
    "# check dtypes again\n",
    "sd_properties.dtypes"
   ]
  },
  {
   "cell_type": "code",
   "execution_count": 12,
   "metadata": {},
   "outputs": [],
   "source": [
    "# export cleaned dataset for easier use\n",
    "sd_properties.to_csv('sd_properties.csv', index=False)"
   ]
  },
  {
   "cell_type": "markdown",
   "metadata": {},
   "source": [
    "# Results\n",
    "\n",
    "## Exploratory Data Analysis\n",
    "\n",
    "Carry out whatever EDA you need to for your project.  Because every project will be different we can't really give you much of a template at this point. But please make sure you describe the what and why in text here as well as providing interpretation of results and context."
   ]
  },
  {
   "cell_type": "code",
   "execution_count": 13,
   "metadata": {},
   "outputs": [],
   "source": [
    "# import packages for analysis\n",
    "import matplotlib.pyplot as plt\n",
    "import seaborn as sns\n",
    "import patsy\n",
    "import sklearn\n",
    "from sklearn.preprocessing import MinMaxScaler, StandardScaler, OneHotEncoder\n",
    "from sklearn.model_selection import train_test_split\n",
    "from sklearn.ensemble import RandomForestRegressor\n",
    "from sklearn.metrics import root_mean_squared_error, confusion_matrix\n",
    "from sklearn.decomposition import PCA\n",
    "import statsmodels.api as sm\n",
    "import scipy.stats as stats\n",
    "from scipy.stats import ttest_ind, chisquare, normaltest"
   ]
  },
  {
   "cell_type": "markdown",
   "metadata": {},
   "source": [
    "## Understanding San Diego’s Housing Market: Initial Data Exploration\n",
    "\n",
    "Before diving into a deeper analysis of housing prices, we began by exploring the dataset to understand the available property listings in San Diego. This initial step involved filtering out properties that were not yet constructed, ensuring that our dataset focused only on homes that were currently on the market. Additionally, we examined key variables such as price, number of bedrooms and bathrooms, lot size, and location to identify any patterns or anomalies in the data.\n",
    "\n",
    "By structuring our dataset in this way, we aimed to create a solid foundation for further analysis, allowing us to uncover the primary factors influencing housing costs. The following sections will provide a breakdown of our findings, visualizations, and insights into the San Diego housing market.\n",
    "\n"
   ]
  },
  {
   "cell_type": "code",
   "execution_count": 14,
   "metadata": {},
   "outputs": [
    {
     "data": {
      "text/html": [
       "<div>\n",
       "<style scoped>\n",
       "    .dataframe tbody tr th:only-of-type {\n",
       "        vertical-align: middle;\n",
       "    }\n",
       "\n",
       "    .dataframe tbody tr th {\n",
       "        vertical-align: top;\n",
       "    }\n",
       "\n",
       "    .dataframe thead th {\n",
       "        text-align: right;\n",
       "    }\n",
       "</style>\n",
       "<table border=\"1\" class=\"dataframe\">\n",
       "  <thead>\n",
       "    <tr style=\"text-align: right;\">\n",
       "      <th></th>\n",
       "      <th>price</th>\n",
       "      <th>bed</th>\n",
       "      <th>bath</th>\n",
       "      <th>acre_lot</th>\n",
       "      <th>house_size</th>\n",
       "    </tr>\n",
       "  </thead>\n",
       "  <tbody>\n",
       "    <tr>\n",
       "      <th>count</th>\n",
       "      <td>3.686000e+03</td>\n",
       "      <td>3686.000000</td>\n",
       "      <td>3686.000000</td>\n",
       "      <td>3686.000000</td>\n",
       "      <td>3686.000000</td>\n",
       "    </tr>\n",
       "    <tr>\n",
       "      <th>mean</th>\n",
       "      <td>1.222534e+06</td>\n",
       "      <td>3.092512</td>\n",
       "      <td>2.393923</td>\n",
       "      <td>106.672534</td>\n",
       "      <td>1653.711069</td>\n",
       "    </tr>\n",
       "    <tr>\n",
       "      <th>std</th>\n",
       "      <td>8.513344e+06</td>\n",
       "      <td>2.127768</td>\n",
       "      <td>2.063314</td>\n",
       "      <td>2911.577063</td>\n",
       "      <td>1460.198465</td>\n",
       "    </tr>\n",
       "    <tr>\n",
       "      <th>min</th>\n",
       "      <td>7.790000e+04</td>\n",
       "      <td>1.000000</td>\n",
       "      <td>1.000000</td>\n",
       "      <td>0.010000</td>\n",
       "      <td>311.000000</td>\n",
       "    </tr>\n",
       "    <tr>\n",
       "      <th>25%</th>\n",
       "      <td>6.490000e+05</td>\n",
       "      <td>2.000000</td>\n",
       "      <td>2.000000</td>\n",
       "      <td>0.130000</td>\n",
       "      <td>1057.000000</td>\n",
       "    </tr>\n",
       "    <tr>\n",
       "      <th>50%</th>\n",
       "      <td>8.500000e+05</td>\n",
       "      <td>3.000000</td>\n",
       "      <td>2.000000</td>\n",
       "      <td>0.170000</td>\n",
       "      <td>1404.000000</td>\n",
       "    </tr>\n",
       "    <tr>\n",
       "      <th>75%</th>\n",
       "      <td>1.273675e+06</td>\n",
       "      <td>4.000000</td>\n",
       "      <td>3.000000</td>\n",
       "      <td>0.687500</td>\n",
       "      <td>1900.000000</td>\n",
       "    </tr>\n",
       "    <tr>\n",
       "      <th>max</th>\n",
       "      <td>5.150000e+08</td>\n",
       "      <td>108.000000</td>\n",
       "      <td>108.000000</td>\n",
       "      <td>100000.000000</td>\n",
       "      <td>65960.000000</td>\n",
       "    </tr>\n",
       "  </tbody>\n",
       "</table>\n",
       "</div>"
      ],
      "text/plain": [
       "              price          bed         bath       acre_lot    house_size\n",
       "count  3.686000e+03  3686.000000  3686.000000    3686.000000   3686.000000\n",
       "mean   1.222534e+06     3.092512     2.393923     106.672534   1653.711069\n",
       "std    8.513344e+06     2.127768     2.063314    2911.577063   1460.198465\n",
       "min    7.790000e+04     1.000000     1.000000       0.010000    311.000000\n",
       "25%    6.490000e+05     2.000000     2.000000       0.130000   1057.000000\n",
       "50%    8.500000e+05     3.000000     2.000000       0.170000   1404.000000\n",
       "75%    1.273675e+06     4.000000     3.000000       0.687500   1900.000000\n",
       "max    5.150000e+08   108.000000   108.000000  100000.000000  65960.000000"
      ]
     },
     "execution_count": 14,
     "metadata": {},
     "output_type": "execute_result"
    }
   ],
   "source": [
    "# view descriptive stats for san diego\n",
    "sd_properties.describe()"
   ]
  },
  {
   "cell_type": "markdown",
   "metadata": {},
   "source": [
    "We remove large houses as we want to focus on properties that students or young professionals would be interested in."
   ]
  },
  {
   "cell_type": "code",
   "execution_count": 15,
   "metadata": {},
   "outputs": [
    {
     "name": "stdout",
     "output_type": "stream",
     "text": [
      "bed\n",
      "3.0      1275\n",
      "2.0       956\n",
      "4.0       820\n",
      "1.0       272\n",
      "5.0       263\n",
      "6.0        59\n",
      "7.0        15\n",
      "8.0        13\n",
      "9.0         6\n",
      "12.0        3\n",
      "10.0        2\n",
      "108.0       1\n",
      "14.0        1\n",
      "Name: count, dtype: int64\n"
     ]
    }
   ],
   "source": [
    "# our project mostly concerns students, so remove large houses\n",
    "print(sd_properties['bed'].value_counts())\n",
    "\n",
    "sd_small = sd_properties[(sd_properties['bed'] <= 5) & (sd_properties['bath'] <= 5)]"
   ]
  },
  {
   "cell_type": "markdown",
   "metadata": {},
   "source": [
    "We decide to exclude houses larger than 5 bed and bath, as smaller houses make up the vast majority of the dataset."
   ]
  },
  {
   "cell_type": "code",
   "execution_count": 16,
   "metadata": {},
   "outputs": [
    {
     "data": {
      "text/html": [
       "<div>\n",
       "<style scoped>\n",
       "    .dataframe tbody tr th:only-of-type {\n",
       "        vertical-align: middle;\n",
       "    }\n",
       "\n",
       "    .dataframe tbody tr th {\n",
       "        vertical-align: top;\n",
       "    }\n",
       "\n",
       "    .dataframe thead th {\n",
       "        text-align: right;\n",
       "    }\n",
       "</style>\n",
       "<table border=\"1\" class=\"dataframe\">\n",
       "  <thead>\n",
       "    <tr style=\"text-align: right;\">\n",
       "      <th></th>\n",
       "      <th>price</th>\n",
       "      <th>bed</th>\n",
       "      <th>bath</th>\n",
       "      <th>acre_lot</th>\n",
       "      <th>house_size</th>\n",
       "    </tr>\n",
       "  </thead>\n",
       "  <tbody>\n",
       "    <tr>\n",
       "      <th>count</th>\n",
       "      <td>3.549000e+03</td>\n",
       "      <td>3549.000000</td>\n",
       "      <td>3549.000000</td>\n",
       "      <td>3549.000000</td>\n",
       "      <td>3549.000000</td>\n",
       "    </tr>\n",
       "    <tr>\n",
       "      <th>mean</th>\n",
       "      <td>1.149269e+06</td>\n",
       "      <td>2.936320</td>\n",
       "      <td>2.245703</td>\n",
       "      <td>110.772832</td>\n",
       "      <td>1534.144548</td>\n",
       "    </tr>\n",
       "    <tr>\n",
       "      <th>std</th>\n",
       "      <td>8.653646e+06</td>\n",
       "      <td>1.029389</td>\n",
       "      <td>0.850053</td>\n",
       "      <td>2967.181210</td>\n",
       "      <td>723.840453</td>\n",
       "    </tr>\n",
       "    <tr>\n",
       "      <th>min</th>\n",
       "      <td>7.790000e+04</td>\n",
       "      <td>1.000000</td>\n",
       "      <td>1.000000</td>\n",
       "      <td>0.010000</td>\n",
       "      <td>311.000000</td>\n",
       "    </tr>\n",
       "    <tr>\n",
       "      <th>25%</th>\n",
       "      <td>6.450000e+05</td>\n",
       "      <td>2.000000</td>\n",
       "      <td>2.000000</td>\n",
       "      <td>0.130000</td>\n",
       "      <td>1050.000000</td>\n",
       "    </tr>\n",
       "    <tr>\n",
       "      <th>50%</th>\n",
       "      <td>8.490000e+05</td>\n",
       "      <td>3.000000</td>\n",
       "      <td>2.000000</td>\n",
       "      <td>0.170000</td>\n",
       "      <td>1383.000000</td>\n",
       "    </tr>\n",
       "    <tr>\n",
       "      <th>75%</th>\n",
       "      <td>1.200000e+06</td>\n",
       "      <td>4.000000</td>\n",
       "      <td>3.000000</td>\n",
       "      <td>0.690000</td>\n",
       "      <td>1821.000000</td>\n",
       "    </tr>\n",
       "    <tr>\n",
       "      <th>max</th>\n",
       "      <td>5.150000e+08</td>\n",
       "      <td>5.000000</td>\n",
       "      <td>5.000000</td>\n",
       "      <td>100000.000000</td>\n",
       "      <td>6990.000000</td>\n",
       "    </tr>\n",
       "  </tbody>\n",
       "</table>\n",
       "</div>"
      ],
      "text/plain": [
       "              price          bed         bath       acre_lot   house_size\n",
       "count  3.549000e+03  3549.000000  3549.000000    3549.000000  3549.000000\n",
       "mean   1.149269e+06     2.936320     2.245703     110.772832  1534.144548\n",
       "std    8.653646e+06     1.029389     0.850053    2967.181210   723.840453\n",
       "min    7.790000e+04     1.000000     1.000000       0.010000   311.000000\n",
       "25%    6.450000e+05     2.000000     2.000000       0.130000  1050.000000\n",
       "50%    8.490000e+05     3.000000     2.000000       0.170000  1383.000000\n",
       "75%    1.200000e+06     4.000000     3.000000       0.690000  1821.000000\n",
       "max    5.150000e+08     5.000000     5.000000  100000.000000  6990.000000"
      ]
     },
     "execution_count": 16,
     "metadata": {},
     "output_type": "execute_result"
    }
   ],
   "source": [
    "# check descriptive stats again\n",
    "sd_small.describe()"
   ]
  },
  {
   "cell_type": "markdown",
   "metadata": {},
   "source": [
    "We may need to further adjust based on house and lot size, but the most extreme outliers have been removed.\n",
    "\n",
    "Because price covers such a wide range, we normalize it to make the data easier to interpret."
   ]
  },
  {
   "cell_type": "code",
   "execution_count": 17,
   "metadata": {},
   "outputs": [
    {
     "name": "stderr",
     "output_type": "stream",
     "text": [
      "C:\\Users\\katie\\AppData\\Local\\Temp\\ipykernel_13132\\1220795796.py:2: SettingWithCopyWarning: \n",
      "A value is trying to be set on a copy of a slice from a DataFrame.\n",
      "Try using .loc[row_indexer,col_indexer] = value instead\n",
      "\n",
      "See the caveats in the documentation: https://pandas.pydata.org/pandas-docs/stable/user_guide/indexing.html#returning-a-view-versus-a-copy\n",
      "  sd_small['price_norm'] = np.log(sd_small['price'])\n"
     ]
    }
   ],
   "source": [
    "# normalize price with natural log\n",
    "sd_small['price_norm'] = np.log(sd_small['price'])"
   ]
  },
  {
   "cell_type": "code",
   "execution_count": 18,
   "metadata": {},
   "outputs": [
    {
     "data": {
      "text/html": [
       "<div>\n",
       "<style scoped>\n",
       "    .dataframe tbody tr th:only-of-type {\n",
       "        vertical-align: middle;\n",
       "    }\n",
       "\n",
       "    .dataframe tbody tr th {\n",
       "        vertical-align: top;\n",
       "    }\n",
       "\n",
       "    .dataframe thead th {\n",
       "        text-align: right;\n",
       "    }\n",
       "</style>\n",
       "<table border=\"1\" class=\"dataframe\">\n",
       "  <thead>\n",
       "    <tr style=\"text-align: right;\">\n",
       "      <th></th>\n",
       "      <th>price</th>\n",
       "      <th>bed</th>\n",
       "      <th>bath</th>\n",
       "      <th>acre_lot</th>\n",
       "      <th>house_size</th>\n",
       "      <th>price_norm</th>\n",
       "    </tr>\n",
       "  </thead>\n",
       "  <tbody>\n",
       "    <tr>\n",
       "      <th>count</th>\n",
       "      <td>3.549000e+03</td>\n",
       "      <td>3549.000000</td>\n",
       "      <td>3549.000000</td>\n",
       "      <td>3549.000000</td>\n",
       "      <td>3549.000000</td>\n",
       "      <td>3549.000000</td>\n",
       "    </tr>\n",
       "    <tr>\n",
       "      <th>mean</th>\n",
       "      <td>1.149269e+06</td>\n",
       "      <td>2.936320</td>\n",
       "      <td>2.245703</td>\n",
       "      <td>110.772832</td>\n",
       "      <td>1534.144548</td>\n",
       "      <td>13.683735</td>\n",
       "    </tr>\n",
       "    <tr>\n",
       "      <th>std</th>\n",
       "      <td>8.653646e+06</td>\n",
       "      <td>1.029389</td>\n",
       "      <td>0.850053</td>\n",
       "      <td>2967.181210</td>\n",
       "      <td>723.840453</td>\n",
       "      <td>0.521925</td>\n",
       "    </tr>\n",
       "    <tr>\n",
       "      <th>min</th>\n",
       "      <td>7.790000e+04</td>\n",
       "      <td>1.000000</td>\n",
       "      <td>1.000000</td>\n",
       "      <td>0.010000</td>\n",
       "      <td>311.000000</td>\n",
       "      <td>11.263181</td>\n",
       "    </tr>\n",
       "    <tr>\n",
       "      <th>25%</th>\n",
       "      <td>6.450000e+05</td>\n",
       "      <td>2.000000</td>\n",
       "      <td>2.000000</td>\n",
       "      <td>0.130000</td>\n",
       "      <td>1050.000000</td>\n",
       "      <td>13.377006</td>\n",
       "    </tr>\n",
       "    <tr>\n",
       "      <th>50%</th>\n",
       "      <td>8.490000e+05</td>\n",
       "      <td>3.000000</td>\n",
       "      <td>2.000000</td>\n",
       "      <td>0.170000</td>\n",
       "      <td>1383.000000</td>\n",
       "      <td>13.651814</td>\n",
       "    </tr>\n",
       "    <tr>\n",
       "      <th>75%</th>\n",
       "      <td>1.200000e+06</td>\n",
       "      <td>4.000000</td>\n",
       "      <td>3.000000</td>\n",
       "      <td>0.690000</td>\n",
       "      <td>1821.000000</td>\n",
       "      <td>13.997832</td>\n",
       "    </tr>\n",
       "    <tr>\n",
       "      <th>max</th>\n",
       "      <td>5.150000e+08</td>\n",
       "      <td>5.000000</td>\n",
       "      <td>5.000000</td>\n",
       "      <td>100000.000000</td>\n",
       "      <td>6990.000000</td>\n",
       "      <td>20.059677</td>\n",
       "    </tr>\n",
       "  </tbody>\n",
       "</table>\n",
       "</div>"
      ],
      "text/plain": [
       "              price          bed         bath       acre_lot   house_size  \\\n",
       "count  3.549000e+03  3549.000000  3549.000000    3549.000000  3549.000000   \n",
       "mean   1.149269e+06     2.936320     2.245703     110.772832  1534.144548   \n",
       "std    8.653646e+06     1.029389     0.850053    2967.181210   723.840453   \n",
       "min    7.790000e+04     1.000000     1.000000       0.010000   311.000000   \n",
       "25%    6.450000e+05     2.000000     2.000000       0.130000  1050.000000   \n",
       "50%    8.490000e+05     3.000000     2.000000       0.170000  1383.000000   \n",
       "75%    1.200000e+06     4.000000     3.000000       0.690000  1821.000000   \n",
       "max    5.150000e+08     5.000000     5.000000  100000.000000  6990.000000   \n",
       "\n",
       "        price_norm  \n",
       "count  3549.000000  \n",
       "mean     13.683735  \n",
       "std       0.521925  \n",
       "min      11.263181  \n",
       "25%      13.377006  \n",
       "50%      13.651814  \n",
       "75%      13.997832  \n",
       "max      20.059677  "
      ]
     },
     "execution_count": 18,
     "metadata": {},
     "output_type": "execute_result"
    }
   ],
   "source": [
    "sd_small.describe()"
   ]
  },
  {
   "cell_type": "code",
   "execution_count": 19,
   "metadata": {},
   "outputs": [
    {
     "name": "stderr",
     "output_type": "stream",
     "text": [
      "C:\\Users\\katie\\AppData\\Local\\Temp\\ipykernel_13132\\1692416033.py:3: FutureWarning: \n",
      "\n",
      "Passing `palette` without assigning `hue` is deprecated and will be removed in v0.14.0. Assign the `x` variable to `hue` and set `legend=False` for the same effect.\n",
      "\n",
      "  fig1 = sns.countplot(data=sd_small, x='zip_code', palette='viridis')\n"
     ]
    },
    {
     "data": {
      "image/png": "[encoded data removed]",
      "text/plain": [
       "<Figure size 1200x600 with 1 Axes>"
      ]
     },
     "metadata": {},
     "output_type": "display_data"
    }
   ],
   "source": [
    "# view distribution of zipcodes\n",
    "plt.figure(figsize=(12, 6))\n",
    "fig1 = sns.countplot(data=sd_small, x='zip_code', palette='viridis')\n",
    "plt.xticks(rotation=90)\n",
    "plt.xlabel('Zip Code')\n",
    "plt.ylabel('Count')\n",
    "plt.title('Distribution of Zip Codes in the Dataset')\n",
    "\n",
    "fig1 = plt.gcf()\n",
    "plt.show()"
   ]
  },
  {
   "cell_type": "markdown",
   "metadata": {},
   "source": [
    "When analyzing the distribution of zip codes in our dataset, we observed that certain zip codes have significantly more listings than others. This suggests that location plays a crucial role in housing availability and potentially influences both price and desirability. Areas with a higher concentration of listings may indicate popular or high-demand neighborhoods, while those with fewer listings could reflect limited housing supply or less sought-after locations."
   ]
  },
  {
   "cell_type": "code",
   "execution_count": 20,
   "metadata": {},
   "outputs": [
    {
     "name": "stderr",
     "output_type": "stream",
     "text": [
      "C:\\Users\\katie\\AppData\\Local\\Temp\\ipykernel_13132\\1279543873.py:2: UserWarning: Ignoring `palette` because no `hue` variable has been assigned.\n",
      "  fig4 = sns.histplot(data=sd_small, x='zip_code', y='price_norm', bins=30, kde=True, palette='viridis')\n"
     ]
    },
    {
     "data": {
      "image/png": "[encoded data removed]",
      "text/plain": [
       "<Figure size 1200x600 with 1 Axes>"
      ]
     },
     "metadata": {},
     "output_type": "display_data"
    }
   ],
   "source": [
    "plt.figure(figsize=(12, 6))\n",
    "fig4 = sns.histplot(data=sd_small, x='zip_code', y='price_norm', bins=30, kde=True, palette='viridis')\n",
    "plt.xticks(rotation=90)\n",
    "plt.xlabel('Zip Code')\n",
    "plt.ylabel('Normalized Price')\n",
    "plt.title('Distribution of Normalized Prices by Zip Code')\n",
    "\n",
    "fig4 = plt.gcf()\n",
    "plt.show()"
   ]
  },
  {
   "cell_type": "code",
   "execution_count": 21,
   "metadata": {},
   "outputs": [
    {
     "name": "stderr",
     "output_type": "stream",
     "text": [
      "C:\\Users\\katie\\AppData\\Local\\Temp\\ipykernel_13132\\2312610609.py:2: UserWarning: Ignoring `palette` because no `hue` variable has been assigned.\n",
      "  fig2 = sns.histplot(data=sd_small, x='bed', bins=30, kde=True, palette='viridis')\n"
     ]
    },
    {
     "data": {
      "image/png": "[encoded data removed]",
      "text/plain": [
       "<Figure size 1200x600 with 1 Axes>"
      ]
     },
     "metadata": {},
     "output_type": "display_data"
    }
   ],
   "source": [
    "plt.figure(figsize=(12, 6))\n",
    "fig2 = sns.histplot(data=sd_small, x='bed', bins=30, kde=True, palette='viridis')\n",
    "plt.xticks(rotation=90)\n",
    "plt.xlabel('Number of Bedrooms')\n",
    "plt.ylabel('Count')\n",
    "plt.title('Distribution of Bedrooms in the Dataset')\n",
    "\n",
    "fig2 = plt.gcf()\n",
    "plt.show()"
   ]
  },
  {
   "cell_type": "markdown",
   "metadata": {},
   "source": [
    "This visualization represents the distribution of the number of bedrooms in properties, providing insight into common housing configurations in the market."
   ]
  },
  {
   "cell_type": "code",
   "execution_count": 22,
   "metadata": {},
   "outputs": [
    {
     "name": "stderr",
     "output_type": "stream",
     "text": [
      "C:\\Users\\katie\\AppData\\Local\\Temp\\ipykernel_13132\\2059178576.py:2: UserWarning: Ignoring `palette` because no `hue` variable has been assigned.\n",
      "  fig3 = sns.scatterplot(data=sd_small, x='bed', y='price_norm', palette='viridis')\n"
     ]
    },
    {
     "data": {
      "image/png": "[encoded data removed]",
      "text/plain": [
       "<Figure size 1200x600 with 1 Axes>"
      ]
     },
     "metadata": {},
     "output_type": "display_data"
    }
   ],
   "source": [
    "plt.figure(figsize=(12, 6))\n",
    "fig3 = sns.scatterplot(data=sd_small, x='bed', y='price_norm', palette='viridis')\n",
    "plt.xticks(rotation=90)\n",
    "plt.xlabel('Number of Bedrooms')\n",
    "plt.ylabel('Normalized Price')\n",
    "plt.title('Scatter Plot: Number of Bedrooms vs. Normalized Price')\n",
    "\n",
    "fig3 = plt.gcf()\n",
    "plt.show()"
   ]
  },
  {
   "cell_type": "code",
   "execution_count": 23,
   "metadata": {},
   "outputs": [
    {
     "data": {
      "text/plain": [
       "price         515000000.0\n",
       "bed                   2.0\n",
       "bath                  2.0\n",
       "acre_lot             2.59\n",
       "city            San Diego\n",
       "state          California\n",
       "zip_code            92119\n",
       "house_size         1048.0\n",
       "price_norm      20.059677\n",
       "Name: 582, dtype: object"
      ]
     },
     "execution_count": 23,
     "metadata": {},
     "output_type": "execute_result"
    }
   ],
   "source": [
    "sd_small[sd_small['bed'] == 2].sort_values('price', ascending=False).iloc[0]"
   ]
  },
  {
   "cell_type": "markdown",
   "metadata": {},
   "source": [
    "Here we see a outlier in price. There is a property with 2 bedrooms that has a significantly higher price. Let's see if other properties in that zip code has a high price."
   ]
  },
  {
   "cell_type": "code",
   "execution_count": 24,
   "metadata": {},
   "outputs": [
    {
     "data": {
      "text/html": [
       "<div>\n",
       "<style scoped>\n",
       "    .dataframe tbody tr th:only-of-type {\n",
       "        vertical-align: middle;\n",
       "    }\n",
       "\n",
       "    .dataframe tbody tr th {\n",
       "        vertical-align: top;\n",
       "    }\n",
       "\n",
       "    .dataframe thead th {\n",
       "        text-align: right;\n",
       "    }\n",
       "</style>\n",
       "<table border=\"1\" class=\"dataframe\">\n",
       "  <thead>\n",
       "    <tr style=\"text-align: right;\">\n",
       "      <th></th>\n",
       "      <th>price</th>\n",
       "      <th>bed</th>\n",
       "      <th>bath</th>\n",
       "      <th>acre_lot</th>\n",
       "      <th>city</th>\n",
       "      <th>state</th>\n",
       "      <th>zip_code</th>\n",
       "      <th>house_size</th>\n",
       "      <th>price_norm</th>\n",
       "    </tr>\n",
       "  </thead>\n",
       "  <tbody>\n",
       "    <tr>\n",
       "      <th>108</th>\n",
       "      <td>1049000.0</td>\n",
       "      <td>3.0</td>\n",
       "      <td>3.0</td>\n",
       "      <td>0.33</td>\n",
       "      <td>San Diego</td>\n",
       "      <td>California</td>\n",
       "      <td>92119</td>\n",
       "      <td>1855.0</td>\n",
       "      <td>13.863348</td>\n",
       "    </tr>\n",
       "    <tr>\n",
       "      <th>127</th>\n",
       "      <td>900000.0</td>\n",
       "      <td>3.0</td>\n",
       "      <td>2.0</td>\n",
       "      <td>0.14</td>\n",
       "      <td>San Diego</td>\n",
       "      <td>California</td>\n",
       "      <td>92119</td>\n",
       "      <td>1623.0</td>\n",
       "      <td>13.710150</td>\n",
       "    </tr>\n",
       "    <tr>\n",
       "      <th>187</th>\n",
       "      <td>999000.0</td>\n",
       "      <td>3.0</td>\n",
       "      <td>2.0</td>\n",
       "      <td>0.21</td>\n",
       "      <td>San Diego</td>\n",
       "      <td>California</td>\n",
       "      <td>92119</td>\n",
       "      <td>1530.0</td>\n",
       "      <td>13.814510</td>\n",
       "    </tr>\n",
       "    <tr>\n",
       "      <th>196</th>\n",
       "      <td>860000.0</td>\n",
       "      <td>3.0</td>\n",
       "      <td>2.0</td>\n",
       "      <td>0.13</td>\n",
       "      <td>San Diego</td>\n",
       "      <td>California</td>\n",
       "      <td>92119</td>\n",
       "      <td>1485.0</td>\n",
       "      <td>13.664688</td>\n",
       "    </tr>\n",
       "    <tr>\n",
       "      <th>223</th>\n",
       "      <td>1049000.0</td>\n",
       "      <td>4.0</td>\n",
       "      <td>3.0</td>\n",
       "      <td>0.14</td>\n",
       "      <td>San Diego</td>\n",
       "      <td>California</td>\n",
       "      <td>92119</td>\n",
       "      <td>2112.0</td>\n",
       "      <td>13.863348</td>\n",
       "    </tr>\n",
       "    <tr>\n",
       "      <th>...</th>\n",
       "      <td>...</td>\n",
       "      <td>...</td>\n",
       "      <td>...</td>\n",
       "      <td>...</td>\n",
       "      <td>...</td>\n",
       "      <td>...</td>\n",
       "      <td>...</td>\n",
       "      <td>...</td>\n",
       "      <td>...</td>\n",
       "    </tr>\n",
       "    <tr>\n",
       "      <th>3378</th>\n",
       "      <td>999900.0</td>\n",
       "      <td>3.0</td>\n",
       "      <td>2.0</td>\n",
       "      <td>0.18</td>\n",
       "      <td>San Diego</td>\n",
       "      <td>California</td>\n",
       "      <td>92119</td>\n",
       "      <td>1814.0</td>\n",
       "      <td>13.815411</td>\n",
       "    </tr>\n",
       "    <tr>\n",
       "      <th>3388</th>\n",
       "      <td>900000.0</td>\n",
       "      <td>3.0</td>\n",
       "      <td>2.0</td>\n",
       "      <td>0.18</td>\n",
       "      <td>San Diego</td>\n",
       "      <td>California</td>\n",
       "      <td>92119</td>\n",
       "      <td>1778.0</td>\n",
       "      <td>13.710150</td>\n",
       "    </tr>\n",
       "    <tr>\n",
       "      <th>3471</th>\n",
       "      <td>1275000.0</td>\n",
       "      <td>4.0</td>\n",
       "      <td>3.0</td>\n",
       "      <td>0.29</td>\n",
       "      <td>San Diego</td>\n",
       "      <td>California</td>\n",
       "      <td>92119</td>\n",
       "      <td>2463.0</td>\n",
       "      <td>14.058457</td>\n",
       "    </tr>\n",
       "    <tr>\n",
       "      <th>3542</th>\n",
       "      <td>1150000.0</td>\n",
       "      <td>3.0</td>\n",
       "      <td>3.0</td>\n",
       "      <td>0.15</td>\n",
       "      <td>San Diego</td>\n",
       "      <td>California</td>\n",
       "      <td>92119</td>\n",
       "      <td>1633.0</td>\n",
       "      <td>13.955273</td>\n",
       "    </tr>\n",
       "    <tr>\n",
       "      <th>3589</th>\n",
       "      <td>985000.0</td>\n",
       "      <td>4.0</td>\n",
       "      <td>2.0</td>\n",
       "      <td>0.21</td>\n",
       "      <td>San Diego</td>\n",
       "      <td>California</td>\n",
       "      <td>92119</td>\n",
       "      <td>1852.0</td>\n",
       "      <td>13.800397</td>\n",
       "    </tr>\n",
       "  </tbody>\n",
       "</table>\n",
       "<p>108 rows × 9 columns</p>\n",
       "</div>"
      ],
      "text/plain": [
       "          price  bed  bath  acre_lot       city       state zip_code  \\\n",
       "108   1049000.0  3.0   3.0      0.33  San Diego  California    92119   \n",
       "127    900000.0  3.0   2.0      0.14  San Diego  California    92119   \n",
       "187    999000.0  3.0   2.0      0.21  San Diego  California    92119   \n",
       "196    860000.0  3.0   2.0      0.13  San Diego  California    92119   \n",
       "223   1049000.0  4.0   3.0      0.14  San Diego  California    92119   \n",
       "...         ...  ...   ...       ...        ...         ...      ...   \n",
       "3378   999900.0  3.0   2.0      0.18  San Diego  California    92119   \n",
       "3388   900000.0  3.0   2.0      0.18  San Diego  California    92119   \n",
       "3471  1275000.0  4.0   3.0      0.29  San Diego  California    92119   \n",
       "3542  1150000.0  3.0   3.0      0.15  San Diego  California    92119   \n",
       "3589   985000.0  4.0   2.0      0.21  San Diego  California    92119   \n",
       "\n",
       "      house_size  price_norm  \n",
       "108       1855.0   13.863348  \n",
       "127       1623.0   13.710150  \n",
       "187       1530.0   13.814510  \n",
       "196       1485.0   13.664688  \n",
       "223       2112.0   13.863348  \n",
       "...          ...         ...  \n",
       "3378      1814.0   13.815411  \n",
       "3388      1778.0   13.710150  \n",
       "3471      2463.0   14.058457  \n",
       "3542      1633.0   13.955273  \n",
       "3589      1852.0   13.800397  \n",
       "\n",
       "[108 rows x 9 columns]"
      ]
     },
     "execution_count": 24,
     "metadata": {},
     "output_type": "execute_result"
    }
   ],
   "source": [
    "sd_small[sd_small['zip_code'] == '92119']"
   ]
  },
  {
   "cell_type": "code",
   "execution_count": 25,
   "metadata": {},
   "outputs": [
    {
     "data": {
      "image/png": "[encoded data removed]",
      "text/plain": [
       "<Figure size 640x480 with 1 Axes>"
      ]
     },
     "metadata": {},
     "output_type": "display_data"
    }
   ],
   "source": [
    "# view distribution of zipcode = 92119\n",
    "fig1 = sns.boxplot(sd_small[sd_small['zip_code'] == '92119'], x='price_norm')\n",
    "plt.xticks(rotation=90)\n",
    "\n",
    "fig4 = plt.gcf()"
   ]
  },
  {
   "cell_type": "markdown",
   "metadata": {},
   "source": [
    "Upon reviewing the cleaned dataset, it became evident that most properties were not concentrated around a single price point, indicating a wide variance in housing prices. This suggests that multiple factors, such as location, property size, and number of bedrooms, likely play a role in determining housing costs. Given this complexity, the next step was to apply machine learning algorithms to quantify the significance of these attributes in predicting house prices."
   ]
  },
  {
   "cell_type": "markdown",
   "metadata": {},
   "source": [
    "## Attribute Correlation with Machine Learning\n",
    "\n",
    "To better understand how different property attributes influence housing prices, we applied machine learning models to analyze their significance. By leveraging regression techniques, we quantified the impact of variables such as the number of bedrooms, bathrooms, lot size, and location on home prices in San Diego.\n",
    "\n",
    "Before training the model, we performed data preprocessing, including handling missing values, normalizing numerical features, and encoding categorical variables like zip codes. This ensured that the model could learn patterns effectively without biases from inconsistencies in the dataset.\n",
    "\n",
    "Once the data was prepared, we trained a regression model to predict home prices based on the available features. The results provided insights into which attributes had the strongest correlation with price. For instance, we expected home size and location to be key determinants, but this analysis allowed us to confirm these assumptions and explore additional influential factors.\n",
    "\n",
    "The following sections will present our model's findings, including feature importance scores and visualizations that highlight how different attributes contribute to housing prices in San Diego."
   ]
  },
  {
   "cell_type": "code",
   "execution_count": 26,
   "metadata": {},
   "outputs": [
    {
     "data": {
      "image/png": "[encoded data removed]",
      "text/plain": [
       "<Figure size 1000x800 with 2 Axes>"
      ]
     },
     "metadata": {},
     "output_type": "display_data"
    }
   ],
   "source": [
    "corr_matrix = sd_small[['price', 'bed', 'bath', 'acre_lot', 'house_size']].corr()\n",
    "\n",
    "plt.figure(figsize=(10, 8))\n",
    "sns.heatmap(corr_matrix, annot=True, cmap='coolwarm', fmt=\".2f\", linewidths=.5)\n",
    "plt.title('Correlation Heatmap')\n",
    "plt.show()"
   ]
  },
  {
   "cell_type": "markdown",
   "metadata": {},
   "source": [
    "The heatmap reveals that house size has a moderate correlation with price, while also showing a strong correlation with bedroom and bathroom count. This suggests that larger homes generally have more bedrooms and bathrooms, making these features interrelated (potential multicollinearity). However, lot size does not show a strong correlation with any of these factors, indicating that the amount of land a property sits on may not significantly influence home price in the same way as interior features."
   ]
  },
  {
   "cell_type": "code",
   "execution_count": 27,
   "metadata": {},
   "outputs": [
    {
     "data": {
      "image/png": "[encoded data removed]",
      "text/plain": [
       "<Figure size 1000x800 with 2 Axes>"
      ]
     },
     "metadata": {},
     "output_type": "display_data"
    }
   ],
   "source": [
    "corr_matrix_norm = sd_small[['price_norm', 'bed', 'bath', 'acre_lot', 'house_size']].corr()\n",
    "\n",
    "plt.figure(figsize=(10, 8))\n",
    "sns.heatmap(corr_matrix_norm, annot=True, cmap='coolwarm', fmt=\".2f\", linewidths=.5)\n",
    "plt.title('Correlation Heatmap')\n",
    "plt.show()"
   ]
  },
  {
   "cell_type": "markdown",
   "metadata": {},
   "source": [
    "When analyzing the correlation using normalized price values, we observe that the trends identified in the original price data become more pronounced, highlighting stronger relationships between variables.\n",
    "\n",
    "To account for zip codes, which are non-ordinal categorical variables, we apply OneHotEncoding. This ensures that each zip code is represented as a separate feature, preventing the model from incorrectly assuming a numerical relationship between them."
   ]
  },
  {
   "cell_type": "code",
   "execution_count": 28,
   "metadata": {},
   "outputs": [],
   "source": [
    "# create encoder\n",
    "encoder = OneHotEncoder(categories=[sd_small['zip_code'].unique()], handle_unknown='ignore')"
   ]
  },
  {
   "cell_type": "code",
   "execution_count": 29,
   "metadata": {},
   "outputs": [],
   "source": [
    "# encode zip \n",
    "zip_ohe = pd.DataFrame(encoder.fit_transform(sd_small[['zip_code']]).toarray(), columns=[str(i) for i in range(39)])"
   ]
  },
  {
   "cell_type": "markdown",
   "metadata": {},
   "source": [
    "We concatenate the encoded zip with the rest of the dataset."
   ]
  },
  {
   "cell_type": "code",
   "execution_count": 30,
   "metadata": {},
   "outputs": [],
   "source": [
    "# reset index to avoid conflicts \n",
    "sd_small = sd_small.reset_index(drop=True)\n",
    "zip_ohe = zip_ohe.reset_index(drop=True)\n",
    "\n",
    "# Now concatenate safely\n",
    "df_combined = pd.concat([sd_small, zip_ohe], axis=1)"
   ]
  },
  {
   "cell_type": "code",
   "execution_count": 31,
   "metadata": {},
   "outputs": [
    {
     "data": {
      "text/html": [
       "<div>\n",
       "<style scoped>\n",
       "    .dataframe tbody tr th:only-of-type {\n",
       "        vertical-align: middle;\n",
       "    }\n",
       "\n",
       "    .dataframe tbody tr th {\n",
       "        vertical-align: top;\n",
       "    }\n",
       "\n",
       "    .dataframe thead th {\n",
       "        text-align: right;\n",
       "    }\n",
       "</style>\n",
       "<table border=\"1\" class=\"dataframe\">\n",
       "  <thead>\n",
       "    <tr style=\"text-align: right;\">\n",
       "      <th></th>\n",
       "      <th>price</th>\n",
       "      <th>bed</th>\n",
       "      <th>bath</th>\n",
       "      <th>acre_lot</th>\n",
       "      <th>city</th>\n",
       "      <th>state</th>\n",
       "      <th>zip_code</th>\n",
       "      <th>house_size</th>\n",
       "      <th>price_norm</th>\n",
       "      <th>0</th>\n",
       "      <th>...</th>\n",
       "      <th>29</th>\n",
       "      <th>30</th>\n",
       "      <th>31</th>\n",
       "      <th>32</th>\n",
       "      <th>33</th>\n",
       "      <th>34</th>\n",
       "      <th>35</th>\n",
       "      <th>36</th>\n",
       "      <th>37</th>\n",
       "      <th>38</th>\n",
       "    </tr>\n",
       "  </thead>\n",
       "  <tbody>\n",
       "    <tr>\n",
       "      <th>0</th>\n",
       "      <td>250000.0</td>\n",
       "      <td>3.0</td>\n",
       "      <td>2.0</td>\n",
       "      <td>13.95</td>\n",
       "      <td>San Diego</td>\n",
       "      <td>California</td>\n",
       "      <td>92154</td>\n",
       "      <td>1101.0</td>\n",
       "      <td>12.429216</td>\n",
       "      <td>1.0</td>\n",
       "      <td>...</td>\n",
       "      <td>0.0</td>\n",
       "      <td>0.0</td>\n",
       "      <td>0.0</td>\n",
       "      <td>0.0</td>\n",
       "      <td>0.0</td>\n",
       "      <td>0.0</td>\n",
       "      <td>0.0</td>\n",
       "      <td>0.0</td>\n",
       "      <td>0.0</td>\n",
       "      <td>0.0</td>\n",
       "    </tr>\n",
       "    <tr>\n",
       "      <th>1</th>\n",
       "      <td>399000.0</td>\n",
       "      <td>4.0</td>\n",
       "      <td>2.0</td>\n",
       "      <td>0.20</td>\n",
       "      <td>San Diego</td>\n",
       "      <td>California</td>\n",
       "      <td>92114</td>\n",
       "      <td>1120.0</td>\n",
       "      <td>12.896717</td>\n",
       "      <td>0.0</td>\n",
       "      <td>...</td>\n",
       "      <td>0.0</td>\n",
       "      <td>0.0</td>\n",
       "      <td>0.0</td>\n",
       "      <td>0.0</td>\n",
       "      <td>0.0</td>\n",
       "      <td>0.0</td>\n",
       "      <td>0.0</td>\n",
       "      <td>0.0</td>\n",
       "      <td>0.0</td>\n",
       "      <td>0.0</td>\n",
       "    </tr>\n",
       "    <tr>\n",
       "      <th>2</th>\n",
       "      <td>678888.0</td>\n",
       "      <td>3.0</td>\n",
       "      <td>2.0</td>\n",
       "      <td>0.11</td>\n",
       "      <td>San Diego</td>\n",
       "      <td>California</td>\n",
       "      <td>92114</td>\n",
       "      <td>2042.0</td>\n",
       "      <td>13.428211</td>\n",
       "      <td>0.0</td>\n",
       "      <td>...</td>\n",
       "      <td>0.0</td>\n",
       "      <td>0.0</td>\n",
       "      <td>0.0</td>\n",
       "      <td>0.0</td>\n",
       "      <td>0.0</td>\n",
       "      <td>0.0</td>\n",
       "      <td>0.0</td>\n",
       "      <td>0.0</td>\n",
       "      <td>0.0</td>\n",
       "      <td>0.0</td>\n",
       "    </tr>\n",
       "    <tr>\n",
       "      <th>3</th>\n",
       "      <td>1199900.0</td>\n",
       "      <td>4.0</td>\n",
       "      <td>3.0</td>\n",
       "      <td>0.14</td>\n",
       "      <td>San Diego</td>\n",
       "      <td>California</td>\n",
       "      <td>92115</td>\n",
       "      <td>2160.0</td>\n",
       "      <td>13.997749</td>\n",
       "      <td>0.0</td>\n",
       "      <td>...</td>\n",
       "      <td>0.0</td>\n",
       "      <td>0.0</td>\n",
       "      <td>0.0</td>\n",
       "      <td>0.0</td>\n",
       "      <td>0.0</td>\n",
       "      <td>0.0</td>\n",
       "      <td>0.0</td>\n",
       "      <td>0.0</td>\n",
       "      <td>0.0</td>\n",
       "      <td>0.0</td>\n",
       "    </tr>\n",
       "    <tr>\n",
       "      <th>4</th>\n",
       "      <td>725000.0</td>\n",
       "      <td>3.0</td>\n",
       "      <td>2.0</td>\n",
       "      <td>0.11</td>\n",
       "      <td>San Diego</td>\n",
       "      <td>California</td>\n",
       "      <td>92114</td>\n",
       "      <td>1128.0</td>\n",
       "      <td>13.493927</td>\n",
       "      <td>0.0</td>\n",
       "      <td>...</td>\n",
       "      <td>0.0</td>\n",
       "      <td>0.0</td>\n",
       "      <td>0.0</td>\n",
       "      <td>0.0</td>\n",
       "      <td>0.0</td>\n",
       "      <td>0.0</td>\n",
       "      <td>0.0</td>\n",
       "      <td>0.0</td>\n",
       "      <td>0.0</td>\n",
       "      <td>0.0</td>\n",
       "    </tr>\n",
       "    <tr>\n",
       "      <th>...</th>\n",
       "      <td>...</td>\n",
       "      <td>...</td>\n",
       "      <td>...</td>\n",
       "      <td>...</td>\n",
       "      <td>...</td>\n",
       "      <td>...</td>\n",
       "      <td>...</td>\n",
       "      <td>...</td>\n",
       "      <td>...</td>\n",
       "      <td>...</td>\n",
       "      <td>...</td>\n",
       "      <td>...</td>\n",
       "      <td>...</td>\n",
       "      <td>...</td>\n",
       "      <td>...</td>\n",
       "      <td>...</td>\n",
       "      <td>...</td>\n",
       "      <td>...</td>\n",
       "      <td>...</td>\n",
       "      <td>...</td>\n",
       "      <td>...</td>\n",
       "    </tr>\n",
       "    <tr>\n",
       "      <th>3544</th>\n",
       "      <td>695000.0</td>\n",
       "      <td>1.0</td>\n",
       "      <td>2.0</td>\n",
       "      <td>0.69</td>\n",
       "      <td>San Diego</td>\n",
       "      <td>California</td>\n",
       "      <td>92101</td>\n",
       "      <td>1111.0</td>\n",
       "      <td>13.451667</td>\n",
       "      <td>0.0</td>\n",
       "      <td>...</td>\n",
       "      <td>0.0</td>\n",
       "      <td>0.0</td>\n",
       "      <td>0.0</td>\n",
       "      <td>0.0</td>\n",
       "      <td>0.0</td>\n",
       "      <td>0.0</td>\n",
       "      <td>0.0</td>\n",
       "      <td>0.0</td>\n",
       "      <td>0.0</td>\n",
       "      <td>0.0</td>\n",
       "    </tr>\n",
       "    <tr>\n",
       "      <th>3545</th>\n",
       "      <td>675000.0</td>\n",
       "      <td>2.0</td>\n",
       "      <td>2.0</td>\n",
       "      <td>0.48</td>\n",
       "      <td>San Diego</td>\n",
       "      <td>California</td>\n",
       "      <td>92103</td>\n",
       "      <td>1106.0</td>\n",
       "      <td>13.422468</td>\n",
       "      <td>0.0</td>\n",
       "      <td>...</td>\n",
       "      <td>0.0</td>\n",
       "      <td>0.0</td>\n",
       "      <td>0.0</td>\n",
       "      <td>0.0</td>\n",
       "      <td>0.0</td>\n",
       "      <td>0.0</td>\n",
       "      <td>0.0</td>\n",
       "      <td>0.0</td>\n",
       "      <td>0.0</td>\n",
       "      <td>0.0</td>\n",
       "    </tr>\n",
       "    <tr>\n",
       "      <th>3546</th>\n",
       "      <td>975000.0</td>\n",
       "      <td>3.0</td>\n",
       "      <td>3.0</td>\n",
       "      <td>4.69</td>\n",
       "      <td>San Diego</td>\n",
       "      <td>California</td>\n",
       "      <td>92128</td>\n",
       "      <td>2312.0</td>\n",
       "      <td>13.790193</td>\n",
       "      <td>0.0</td>\n",
       "      <td>...</td>\n",
       "      <td>0.0</td>\n",
       "      <td>0.0</td>\n",
       "      <td>1.0</td>\n",
       "      <td>0.0</td>\n",
       "      <td>0.0</td>\n",
       "      <td>0.0</td>\n",
       "      <td>0.0</td>\n",
       "      <td>0.0</td>\n",
       "      <td>0.0</td>\n",
       "      <td>0.0</td>\n",
       "    </tr>\n",
       "    <tr>\n",
       "      <th>3547</th>\n",
       "      <td>2700000.0</td>\n",
       "      <td>5.0</td>\n",
       "      <td>3.0</td>\n",
       "      <td>0.29</td>\n",
       "      <td>San Diego</td>\n",
       "      <td>California</td>\n",
       "      <td>92103</td>\n",
       "      <td>3373.0</td>\n",
       "      <td>14.808762</td>\n",
       "      <td>0.0</td>\n",
       "      <td>...</td>\n",
       "      <td>0.0</td>\n",
       "      <td>0.0</td>\n",
       "      <td>0.0</td>\n",
       "      <td>0.0</td>\n",
       "      <td>0.0</td>\n",
       "      <td>0.0</td>\n",
       "      <td>0.0</td>\n",
       "      <td>0.0</td>\n",
       "      <td>0.0</td>\n",
       "      <td>0.0</td>\n",
       "    </tr>\n",
       "    <tr>\n",
       "      <th>3548</th>\n",
       "      <td>1400000.0</td>\n",
       "      <td>4.0</td>\n",
       "      <td>3.0</td>\n",
       "      <td>0.25</td>\n",
       "      <td>San Diego</td>\n",
       "      <td>California</td>\n",
       "      <td>92128</td>\n",
       "      <td>2724.0</td>\n",
       "      <td>14.151983</td>\n",
       "      <td>0.0</td>\n",
       "      <td>...</td>\n",
       "      <td>0.0</td>\n",
       "      <td>0.0</td>\n",
       "      <td>1.0</td>\n",
       "      <td>0.0</td>\n",
       "      <td>0.0</td>\n",
       "      <td>0.0</td>\n",
       "      <td>0.0</td>\n",
       "      <td>0.0</td>\n",
       "      <td>0.0</td>\n",
       "      <td>0.0</td>\n",
       "    </tr>\n",
       "  </tbody>\n",
       "</table>\n",
       "<p>3549 rows × 48 columns</p>\n",
       "</div>"
      ],
      "text/plain": [
       "          price  bed  bath  acre_lot       city       state zip_code  \\\n",
       "0      250000.0  3.0   2.0     13.95  San Diego  California    92154   \n",
       "1      399000.0  4.0   2.0      0.20  San Diego  California    92114   \n",
       "2      678888.0  3.0   2.0      0.11  San Diego  California    92114   \n",
       "3     1199900.0  4.0   3.0      0.14  San Diego  California    92115   \n",
       "4      725000.0  3.0   2.0      0.11  San Diego  California    92114   \n",
       "...         ...  ...   ...       ...        ...         ...      ...   \n",
       "3544   695000.0  1.0   2.0      0.69  San Diego  California    92101   \n",
       "3545   675000.0  2.0   2.0      0.48  San Diego  California    92103   \n",
       "3546   975000.0  3.0   3.0      4.69  San Diego  California    92128   \n",
       "3547  2700000.0  5.0   3.0      0.29  San Diego  California    92103   \n",
       "3548  1400000.0  4.0   3.0      0.25  San Diego  California    92128   \n",
       "\n",
       "      house_size  price_norm    0  ...   29   30   31   32   33   34   35  \\\n",
       "0         1101.0   12.429216  1.0  ...  0.0  0.0  0.0  0.0  0.0  0.0  0.0   \n",
       "1         1120.0   12.896717  0.0  ...  0.0  0.0  0.0  0.0  0.0  0.0  0.0   \n",
       "2         2042.0   13.428211  0.0  ...  0.0  0.0  0.0  0.0  0.0  0.0  0.0   \n",
       "3         2160.0   13.997749  0.0  ...  0.0  0.0  0.0  0.0  0.0  0.0  0.0   \n",
       "4         1128.0   13.493927  0.0  ...  0.0  0.0  0.0  0.0  0.0  0.0  0.0   \n",
       "...          ...         ...  ...  ...  ...  ...  ...  ...  ...  ...  ...   \n",
       "3544      1111.0   13.451667  0.0  ...  0.0  0.0  0.0  0.0  0.0  0.0  0.0   \n",
       "3545      1106.0   13.422468  0.0  ...  0.0  0.0  0.0  0.0  0.0  0.0  0.0   \n",
       "3546      2312.0   13.790193  0.0  ...  0.0  0.0  1.0  0.0  0.0  0.0  0.0   \n",
       "3547      3373.0   14.808762  0.0  ...  0.0  0.0  0.0  0.0  0.0  0.0  0.0   \n",
       "3548      2724.0   14.151983  0.0  ...  0.0  0.0  1.0  0.0  0.0  0.0  0.0   \n",
       "\n",
       "       36   37   38  \n",
       "0     0.0  0.0  0.0  \n",
       "1     0.0  0.0  0.0  \n",
       "2     0.0  0.0  0.0  \n",
       "3     0.0  0.0  0.0  \n",
       "4     0.0  0.0  0.0  \n",
       "...   ...  ...  ...  \n",
       "3544  0.0  0.0  0.0  \n",
       "3545  0.0  0.0  0.0  \n",
       "3546  0.0  0.0  0.0  \n",
       "3547  0.0  0.0  0.0  \n",
       "3548  0.0  0.0  0.0  \n",
       "\n",
       "[3549 rows x 48 columns]"
      ]
     },
     "execution_count": 31,
     "metadata": {},
     "output_type": "execute_result"
    }
   ],
   "source": [
    "# view dataset \n",
    "df_combined"
   ]
  },
  {
   "cell_type": "code",
   "execution_count": 32,
   "metadata": {},
   "outputs": [],
   "source": [
    "# extract normalized prices for training\n",
    "price_norm = df_combined['price_norm']"
   ]
  },
  {
   "cell_type": "markdown",
   "metadata": {},
   "source": [
    "We scale the data with MinMaxScaler to reduce the range of values and improve model performance."
   ]
  },
  {
   "cell_type": "code",
   "execution_count": 33,
   "metadata": {},
   "outputs": [],
   "source": [
    "# scale data to improve training performance \n",
    "scaler = MinMaxScaler()\n",
    "df_scaled = scaler.fit_transform(df_combined.drop(columns=['price', 'city','state', 'price_norm', 'zip_code']))"
   ]
  },
  {
   "cell_type": "code",
   "execution_count": 34,
   "metadata": {},
   "outputs": [
    {
     "data": {
      "text/html": [
       "<div>\n",
       "<style scoped>\n",
       "    .dataframe tbody tr th:only-of-type {\n",
       "        vertical-align: middle;\n",
       "    }\n",
       "\n",
       "    .dataframe tbody tr th {\n",
       "        vertical-align: top;\n",
       "    }\n",
       "\n",
       "    .dataframe thead th {\n",
       "        text-align: right;\n",
       "    }\n",
       "</style>\n",
       "<table border=\"1\" class=\"dataframe\">\n",
       "  <thead>\n",
       "    <tr style=\"text-align: right;\">\n",
       "      <th></th>\n",
       "      <th>0</th>\n",
       "      <th>1</th>\n",
       "      <th>2</th>\n",
       "      <th>3</th>\n",
       "      <th>4</th>\n",
       "      <th>5</th>\n",
       "      <th>6</th>\n",
       "      <th>7</th>\n",
       "      <th>8</th>\n",
       "      <th>9</th>\n",
       "      <th>...</th>\n",
       "      <th>33</th>\n",
       "      <th>34</th>\n",
       "      <th>35</th>\n",
       "      <th>36</th>\n",
       "      <th>37</th>\n",
       "      <th>38</th>\n",
       "      <th>39</th>\n",
       "      <th>40</th>\n",
       "      <th>41</th>\n",
       "      <th>42</th>\n",
       "    </tr>\n",
       "  </thead>\n",
       "  <tbody>\n",
       "    <tr>\n",
       "      <th>0</th>\n",
       "      <td>0.50</td>\n",
       "      <td>0.25</td>\n",
       "      <td>0.000139</td>\n",
       "      <td>0.118281</td>\n",
       "      <td>1.0</td>\n",
       "      <td>0.0</td>\n",
       "      <td>0.0</td>\n",
       "      <td>0.0</td>\n",
       "      <td>0.0</td>\n",
       "      <td>0.0</td>\n",
       "      <td>...</td>\n",
       "      <td>0.0</td>\n",
       "      <td>0.0</td>\n",
       "      <td>0.0</td>\n",
       "      <td>0.0</td>\n",
       "      <td>0.0</td>\n",
       "      <td>0.0</td>\n",
       "      <td>0.0</td>\n",
       "      <td>0.0</td>\n",
       "      <td>0.0</td>\n",
       "      <td>0.0</td>\n",
       "    </tr>\n",
       "    <tr>\n",
       "      <th>1</th>\n",
       "      <td>0.75</td>\n",
       "      <td>0.25</td>\n",
       "      <td>0.000002</td>\n",
       "      <td>0.121126</td>\n",
       "      <td>0.0</td>\n",
       "      <td>1.0</td>\n",
       "      <td>0.0</td>\n",
       "      <td>0.0</td>\n",
       "      <td>0.0</td>\n",
       "      <td>0.0</td>\n",
       "      <td>...</td>\n",
       "      <td>0.0</td>\n",
       "      <td>0.0</td>\n",
       "      <td>0.0</td>\n",
       "      <td>0.0</td>\n",
       "      <td>0.0</td>\n",
       "      <td>0.0</td>\n",
       "      <td>0.0</td>\n",
       "      <td>0.0</td>\n",
       "      <td>0.0</td>\n",
       "      <td>0.0</td>\n",
       "    </tr>\n",
       "    <tr>\n",
       "      <th>2</th>\n",
       "      <td>0.50</td>\n",
       "      <td>0.25</td>\n",
       "      <td>0.000001</td>\n",
       "      <td>0.259171</td>\n",
       "      <td>0.0</td>\n",
       "      <td>1.0</td>\n",
       "      <td>0.0</td>\n",
       "      <td>0.0</td>\n",
       "      <td>0.0</td>\n",
       "      <td>0.0</td>\n",
       "      <td>...</td>\n",
       "      <td>0.0</td>\n",
       "      <td>0.0</td>\n",
       "      <td>0.0</td>\n",
       "      <td>0.0</td>\n",
       "      <td>0.0</td>\n",
       "      <td>0.0</td>\n",
       "      <td>0.0</td>\n",
       "      <td>0.0</td>\n",
       "      <td>0.0</td>\n",
       "      <td>0.0</td>\n",
       "    </tr>\n",
       "    <tr>\n",
       "      <th>3</th>\n",
       "      <td>0.75</td>\n",
       "      <td>0.50</td>\n",
       "      <td>0.000001</td>\n",
       "      <td>0.276838</td>\n",
       "      <td>0.0</td>\n",
       "      <td>0.0</td>\n",
       "      <td>1.0</td>\n",
       "      <td>0.0</td>\n",
       "      <td>0.0</td>\n",
       "      <td>0.0</td>\n",
       "      <td>...</td>\n",
       "      <td>0.0</td>\n",
       "      <td>0.0</td>\n",
       "      <td>0.0</td>\n",
       "      <td>0.0</td>\n",
       "      <td>0.0</td>\n",
       "      <td>0.0</td>\n",
       "      <td>0.0</td>\n",
       "      <td>0.0</td>\n",
       "      <td>0.0</td>\n",
       "      <td>0.0</td>\n",
       "    </tr>\n",
       "    <tr>\n",
       "      <th>4</th>\n",
       "      <td>0.50</td>\n",
       "      <td>0.25</td>\n",
       "      <td>0.000001</td>\n",
       "      <td>0.122324</td>\n",
       "      <td>0.0</td>\n",
       "      <td>1.0</td>\n",
       "      <td>0.0</td>\n",
       "      <td>0.0</td>\n",
       "      <td>0.0</td>\n",
       "      <td>0.0</td>\n",
       "      <td>...</td>\n",
       "      <td>0.0</td>\n",
       "      <td>0.0</td>\n",
       "      <td>0.0</td>\n",
       "      <td>0.0</td>\n",
       "      <td>0.0</td>\n",
       "      <td>0.0</td>\n",
       "      <td>0.0</td>\n",
       "      <td>0.0</td>\n",
       "      <td>0.0</td>\n",
       "      <td>0.0</td>\n",
       "    </tr>\n",
       "    <tr>\n",
       "      <th>...</th>\n",
       "      <td>...</td>\n",
       "      <td>...</td>\n",
       "      <td>...</td>\n",
       "      <td>...</td>\n",
       "      <td>...</td>\n",
       "      <td>...</td>\n",
       "      <td>...</td>\n",
       "      <td>...</td>\n",
       "      <td>...</td>\n",
       "      <td>...</td>\n",
       "      <td>...</td>\n",
       "      <td>...</td>\n",
       "      <td>...</td>\n",
       "      <td>...</td>\n",
       "      <td>...</td>\n",
       "      <td>...</td>\n",
       "      <td>...</td>\n",
       "      <td>...</td>\n",
       "      <td>...</td>\n",
       "      <td>...</td>\n",
       "      <td>...</td>\n",
       "    </tr>\n",
       "    <tr>\n",
       "      <th>3544</th>\n",
       "      <td>0.00</td>\n",
       "      <td>0.25</td>\n",
       "      <td>0.000007</td>\n",
       "      <td>0.119778</td>\n",
       "      <td>0.0</td>\n",
       "      <td>0.0</td>\n",
       "      <td>0.0</td>\n",
       "      <td>0.0</td>\n",
       "      <td>0.0</td>\n",
       "      <td>0.0</td>\n",
       "      <td>...</td>\n",
       "      <td>0.0</td>\n",
       "      <td>0.0</td>\n",
       "      <td>0.0</td>\n",
       "      <td>0.0</td>\n",
       "      <td>0.0</td>\n",
       "      <td>0.0</td>\n",
       "      <td>0.0</td>\n",
       "      <td>0.0</td>\n",
       "      <td>0.0</td>\n",
       "      <td>0.0</td>\n",
       "    </tr>\n",
       "    <tr>\n",
       "      <th>3545</th>\n",
       "      <td>0.25</td>\n",
       "      <td>0.25</td>\n",
       "      <td>0.000005</td>\n",
       "      <td>0.119030</td>\n",
       "      <td>0.0</td>\n",
       "      <td>0.0</td>\n",
       "      <td>0.0</td>\n",
       "      <td>0.0</td>\n",
       "      <td>0.0</td>\n",
       "      <td>0.0</td>\n",
       "      <td>...</td>\n",
       "      <td>0.0</td>\n",
       "      <td>0.0</td>\n",
       "      <td>0.0</td>\n",
       "      <td>0.0</td>\n",
       "      <td>0.0</td>\n",
       "      <td>0.0</td>\n",
       "      <td>0.0</td>\n",
       "      <td>0.0</td>\n",
       "      <td>0.0</td>\n",
       "      <td>0.0</td>\n",
       "    </tr>\n",
       "    <tr>\n",
       "      <th>3546</th>\n",
       "      <td>0.50</td>\n",
       "      <td>0.50</td>\n",
       "      <td>0.000047</td>\n",
       "      <td>0.299596</td>\n",
       "      <td>0.0</td>\n",
       "      <td>0.0</td>\n",
       "      <td>0.0</td>\n",
       "      <td>0.0</td>\n",
       "      <td>0.0</td>\n",
       "      <td>0.0</td>\n",
       "      <td>...</td>\n",
       "      <td>0.0</td>\n",
       "      <td>0.0</td>\n",
       "      <td>1.0</td>\n",
       "      <td>0.0</td>\n",
       "      <td>0.0</td>\n",
       "      <td>0.0</td>\n",
       "      <td>0.0</td>\n",
       "      <td>0.0</td>\n",
       "      <td>0.0</td>\n",
       "      <td>0.0</td>\n",
       "    </tr>\n",
       "    <tr>\n",
       "      <th>3547</th>\n",
       "      <td>1.00</td>\n",
       "      <td>0.50</td>\n",
       "      <td>0.000003</td>\n",
       "      <td>0.458452</td>\n",
       "      <td>0.0</td>\n",
       "      <td>0.0</td>\n",
       "      <td>0.0</td>\n",
       "      <td>0.0</td>\n",
       "      <td>0.0</td>\n",
       "      <td>0.0</td>\n",
       "      <td>...</td>\n",
       "      <td>0.0</td>\n",
       "      <td>0.0</td>\n",
       "      <td>0.0</td>\n",
       "      <td>0.0</td>\n",
       "      <td>0.0</td>\n",
       "      <td>0.0</td>\n",
       "      <td>0.0</td>\n",
       "      <td>0.0</td>\n",
       "      <td>0.0</td>\n",
       "      <td>0.0</td>\n",
       "    </tr>\n",
       "    <tr>\n",
       "      <th>3548</th>\n",
       "      <td>0.75</td>\n",
       "      <td>0.50</td>\n",
       "      <td>0.000002</td>\n",
       "      <td>0.361282</td>\n",
       "      <td>0.0</td>\n",
       "      <td>0.0</td>\n",
       "      <td>0.0</td>\n",
       "      <td>0.0</td>\n",
       "      <td>0.0</td>\n",
       "      <td>0.0</td>\n",
       "      <td>...</td>\n",
       "      <td>0.0</td>\n",
       "      <td>0.0</td>\n",
       "      <td>1.0</td>\n",
       "      <td>0.0</td>\n",
       "      <td>0.0</td>\n",
       "      <td>0.0</td>\n",
       "      <td>0.0</td>\n",
       "      <td>0.0</td>\n",
       "      <td>0.0</td>\n",
       "      <td>0.0</td>\n",
       "    </tr>\n",
       "  </tbody>\n",
       "</table>\n",
       "<p>3549 rows × 43 columns</p>\n",
       "</div>"
      ],
      "text/plain": [
       "        0     1         2         3    4    5    6    7    8    9   ...   33  \\\n",
       "0     0.50  0.25  0.000139  0.118281  1.0  0.0  0.0  0.0  0.0  0.0  ...  0.0   \n",
       "1     0.75  0.25  0.000002  0.121126  0.0  1.0  0.0  0.0  0.0  0.0  ...  0.0   \n",
       "2     0.50  0.25  0.000001  0.259171  0.0  1.0  0.0  0.0  0.0  0.0  ...  0.0   \n",
       "3     0.75  0.50  0.000001  0.276838  0.0  0.0  1.0  0.0  0.0  0.0  ...  0.0   \n",
       "4     0.50  0.25  0.000001  0.122324  0.0  1.0  0.0  0.0  0.0  0.0  ...  0.0   \n",
       "...    ...   ...       ...       ...  ...  ...  ...  ...  ...  ...  ...  ...   \n",
       "3544  0.00  0.25  0.000007  0.119778  0.0  0.0  0.0  0.0  0.0  0.0  ...  0.0   \n",
       "3545  0.25  0.25  0.000005  0.119030  0.0  0.0  0.0  0.0  0.0  0.0  ...  0.0   \n",
       "3546  0.50  0.50  0.000047  0.299596  0.0  0.0  0.0  0.0  0.0  0.0  ...  0.0   \n",
       "3547  1.00  0.50  0.000003  0.458452  0.0  0.0  0.0  0.0  0.0  0.0  ...  0.0   \n",
       "3548  0.75  0.50  0.000002  0.361282  0.0  0.0  0.0  0.0  0.0  0.0  ...  0.0   \n",
       "\n",
       "       34   35   36   37   38   39   40   41   42  \n",
       "0     0.0  0.0  0.0  0.0  0.0  0.0  0.0  0.0  0.0  \n",
       "1     0.0  0.0  0.0  0.0  0.0  0.0  0.0  0.0  0.0  \n",
       "2     0.0  0.0  0.0  0.0  0.0  0.0  0.0  0.0  0.0  \n",
       "3     0.0  0.0  0.0  0.0  0.0  0.0  0.0  0.0  0.0  \n",
       "4     0.0  0.0  0.0  0.0  0.0  0.0  0.0  0.0  0.0  \n",
       "...   ...  ...  ...  ...  ...  ...  ...  ...  ...  \n",
       "3544  0.0  0.0  0.0  0.0  0.0  0.0  0.0  0.0  0.0  \n",
       "3545  0.0  0.0  0.0  0.0  0.0  0.0  0.0  0.0  0.0  \n",
       "3546  0.0  1.0  0.0  0.0  0.0  0.0  0.0  0.0  0.0  \n",
       "3547  0.0  0.0  0.0  0.0  0.0  0.0  0.0  0.0  0.0  \n",
       "3548  0.0  1.0  0.0  0.0  0.0  0.0  0.0  0.0  0.0  \n",
       "\n",
       "[3549 rows x 43 columns]"
      ]
     },
     "execution_count": 34,
     "metadata": {},
     "output_type": "execute_result"
    }
   ],
   "source": [
    "# preview scaled data \n",
    "pd.DataFrame(df_scaled)"
   ]
  },
  {
   "cell_type": "markdown",
   "metadata": {},
   "source": [
    "We use train_test_split to create our training and test sets."
   ]
  },
  {
   "cell_type": "code",
   "execution_count": 35,
   "metadata": {},
   "outputs": [],
   "source": [
    "# create train and test sets \n",
    "X_train, X_test, y_train, y_test = train_test_split(df_scaled, price_norm, test_size=0.2, random_state=42)"
   ]
  },
  {
   "cell_type": "markdown",
   "metadata": {},
   "source": [
    "## Applying Ordinary Least Squares (OLS) Regression to Understand Housing Price Determinants\n",
    "\n",
    "To further investigate the relationship between housing attributes and price, we applied Ordinary Least Squares (OLS) regression. OLS helps quantify the impact of different factors, such as house size, number of bedrooms, number of bathrooms, and lot size, on home prices while controlling for potential multicollinearity."
   ]
  },
  {
   "cell_type": "markdown",
   "metadata": {},
   "source": [
    "OLS Bedroom"
   ]
  },
  {
   "cell_type": "code",
   "execution_count": 36,
   "metadata": {},
   "outputs": [
    {
     "name": "stdout",
     "output_type": "stream",
     "text": [
      "                            OLS Regression Results                            \n",
      "==============================================================================\n",
      "Dep. Variable:                  price   R-squared:                       0.000\n",
      "Model:                            OLS   Adj. R-squared:                  0.000\n",
      "Method:                 Least Squares   F-statistic:                     1.420\n",
      "Date:                Wed, 19 Mar 2025   Prob (F-statistic):              0.233\n",
      "Time:                        16:11:58   Log-Likelihood:                -61725.\n",
      "No. Observations:                3549   AIC:                         1.235e+05\n",
      "Df Residuals:                    3547   BIC:                         1.235e+05\n",
      "Df Model:                           1                                         \n",
      "Covariance Type:            nonrobust                                         \n",
      "==============================================================================\n",
      "                 coef    std err          t      P>|t|      [0.025      0.975]\n",
      "------------------------------------------------------------------------------\n",
      "const       6.554e+05   4.39e+05      1.493      0.136   -2.05e+05    1.52e+06\n",
      "bed         1.682e+05   1.41e+05      1.192      0.233   -1.09e+05    4.45e+05\n",
      "==============================================================================\n",
      "Omnibus:                    11933.439   Durbin-Watson:                   2.001\n",
      "Prob(Omnibus):                  0.000   Jarque-Bera (JB):       1823000982.129\n",
      "Skew:                          59.112   Prob(JB):                         0.00\n",
      "Kurtosis:                    3512.132   Cond. No.                         10.3\n",
      "==============================================================================\n",
      "\n",
      "Notes:\n",
      "[1] Standard Errors assume that the covariance matrix of the errors is correctly specified.\n"
     ]
    },
    {
     "data": {
      "image/png": "[encoded data removed]",
      "text/plain": [
       "<Figure size 640x480 with 1 Axes>"
      ]
     },
     "metadata": {},
     "output_type": "display_data"
    }
   ],
   "source": [
    "# Load the cleaned dataset\n",
    "sd_properties = pd.read_csv('sd_properties.csv')\n",
    "\n",
    "# Remove large houses \n",
    "sd_small = sd_properties[(sd_properties['bed'] <= 5) & (sd_properties['bath'] <= 5)]\n",
    "\n",
    "# Define the dependent and independent variables\n",
    "X_bed = sd_small[['bed']]\n",
    "y = sd_small['price']\n",
    "\n",
    "# Add a constant to the independent variables matrix\n",
    "X_bed = sm.add_constant(X_bed)\n",
    "\n",
    "# Fit the OLS model\n",
    "model_bed = sm.OLS(y, X_bed).fit()\n",
    "\n",
    "# Print the summary of the model\n",
    "print(model_bed.summary())\n",
    "\n",
    "# Plot the data and the regression line\n",
    "plt.scatter(sd_small['bed'], sd_small['price'], alpha=0.3, label='Data')\n",
    "plt.plot(sd_small['bed'], model_bed.predict(X_bed), '--k', linewidth=4, label='OLS Model Fit')\n",
    "plt.xlabel('Number of Bedrooms')\n",
    "plt.ylabel('Price')\n",
    "plt.legend()\n",
    "plt.title('OLS Regression: Price vs. Number of Bedrooms')\n",
    "plt.show()"
   ]
  },
  {
   "cell_type": "markdown",
   "metadata": {},
   "source": [
    "Our OLS model returns an R^2 value of 0.000, suggesting there is nearly 0 correlation between number of bedrooms and price. This does not match what we expected from our EDA."
   ]
  },
  {
   "cell_type": "markdown",
   "metadata": {},
   "source": [
    "OLS House Size"
   ]
  },
  {
   "cell_type": "code",
   "execution_count": 37,
   "metadata": {},
   "outputs": [
    {
     "name": "stdout",
     "output_type": "stream",
     "text": [
      "                            OLS Regression Results                            \n",
      "==============================================================================\n",
      "Dep. Variable:                  price   R-squared:                       0.002\n",
      "Model:                            OLS   Adj. R-squared:                  0.002\n",
      "Method:                 Least Squares   F-statistic:                     6.660\n",
      "Date:                Wed, 19 Mar 2025   Prob (F-statistic):            0.00990\n",
      "Time:                        16:11:58   Log-Likelihood:                -61722.\n",
      "No. Observations:                3549   AIC:                         1.234e+05\n",
      "Df Residuals:                    3547   BIC:                         1.235e+05\n",
      "Df Model:                           1                                         \n",
      "Covariance Type:            nonrobust                                         \n",
      "==============================================================================\n",
      "                 coef    std err          t      P>|t|      [0.025      0.975]\n",
      "------------------------------------------------------------------------------\n",
      "const       3.553e+05    3.4e+05      1.044      0.296   -3.12e+05    1.02e+06\n",
      "house_size   517.5402    200.548      2.581      0.010     124.339     910.741\n",
      "==============================================================================\n",
      "Omnibus:                    11944.736   Durbin-Watson:                   2.001\n",
      "Prob(Omnibus):                  0.000   Jarque-Bera (JB):       1836486333.448\n",
      "Skew:                          59.275   Prob(JB):                         0.00\n",
      "Kurtosis:                    3525.091   Cond. No.                     3.98e+03\n",
      "==============================================================================\n",
      "\n",
      "Notes:\n",
      "[1] Standard Errors assume that the covariance matrix of the errors is correctly specified.\n",
      "[2] The condition number is large, 3.98e+03. This might indicate that there are\n",
      "strong multicollinearity or other numerical problems.\n"
     ]
    },
    {
     "data": {
      "image/png": "[encoded data removed]",
      "text/plain": [
       "<Figure size 640x480 with 1 Axes>"
      ]
     },
     "metadata": {},
     "output_type": "display_data"
    }
   ],
   "source": [
    "# Load the cleaned dataset\n",
    "sd_properties = pd.read_csv('sd_properties.csv')\n",
    "\n",
    "# Remove large houses \n",
    "sd_small = sd_properties[(sd_properties['bed'] <= 5) & (sd_properties['bath'] <= 5)]\n",
    "\n",
    "# Define the dependent and independent variables\n",
    "X_house_size = sd_small[['house_size']]\n",
    "y = sd_small['price']\n",
    "\n",
    "# Add a constant to the independent variables matrix\n",
    "X_house_size = sm.add_constant(X_house_size)\n",
    "\n",
    "# Fit the OLS model\n",
    "model_house_size = sm.OLS(y, X_house_size).fit()\n",
    "\n",
    "# Print the summary of the model\n",
    "print(model_house_size.summary())\n",
    "\n",
    "# Plot the data and the regression line\n",
    "plt.scatter(sd_small['house_size'], sd_small['price'], alpha=0.3, label='Data')\n",
    "plt.plot(sd_small['house_size'], model_house_size.predict(X_house_size), '--k', linewidth=4, label='OLS Model Fit')\n",
    "plt.xlabel('House Size (sq ft)')\n",
    "plt.ylabel('Price')\n",
    "plt.legend()\n",
    "plt.title('OLS Regression: Price vs. House Size')\n",
    "plt.show()"
   ]
  },
  {
   "cell_type": "markdown",
   "metadata": {},
   "source": [
    "Overall house size returns a slightly higher R^2 of 0.002, which is slightly better, but still not as strong of a relationship as we expected to see.\n",
    "\n",
    "Multicollinearity among house size, bedrooms, and bathrooms indicates that these variables share overlapping information, which can distort regression estimates, and we are using the true price values which have a lot of variance. OLS may not be the best model to handle analysis of multicollinear factors.\n",
    "\n",
    "We also see one extreme price outlier within the dataset, so we chose to remove it for further analysis."
   ]
  },
  {
   "cell_type": "code",
   "execution_count": 38,
   "metadata": {},
   "outputs": [],
   "source": [
    "def remove_outliers(df, column, threshold=1.5):\n",
    "    Q1 = df[column].quantile(0.25)\n",
    "    Q3 = df[column].quantile(0.75)\n",
    "    IQR = Q3 - Q1\n",
    "    lower_bound = Q1 - threshold * IQR\n",
    "    upper_bound = Q3 + threshold * IQR\n",
    "    return df[(df[column] >= lower_bound) & (df[column] <= upper_bound)]"
   ]
  },
  {
   "cell_type": "code",
   "execution_count": 39,
   "metadata": {},
   "outputs": [],
   "source": [
    "# Remove outliers from the dataset based on the price column\n",
    "cleaned_sd_properties = remove_outliers(sd_small, 'price')"
   ]
  },
  {
   "cell_type": "code",
   "execution_count": 40,
   "metadata": {},
   "outputs": [
    {
     "name": "stdout",
     "output_type": "stream",
     "text": [
      "                            OLS Regression Results                            \n",
      "==============================================================================\n",
      "Dep. Variable:                  price   R-squared:                       0.269\n",
      "Model:                            OLS   Adj. R-squared:                  0.269\n",
      "Method:                 Least Squares   F-statistic:                     1237.\n",
      "Date:                Wed, 19 Mar 2025   Prob (F-statistic):          5.96e-231\n",
      "Time:                        16:11:59   Log-Likelihood:                -47411.\n",
      "No. Observations:                3356   AIC:                         9.483e+04\n",
      "Df Residuals:                    3354   BIC:                         9.484e+04\n",
      "Df Model:                           1                                         \n",
      "Covariance Type:            nonrobust                                         \n",
      "==============================================================================\n",
      "                 coef    std err          t      P>|t|      [0.025      0.975]\n",
      "------------------------------------------------------------------------------\n",
      "const       3.241e+05   1.73e+04     18.682      0.000     2.9e+05    3.58e+05\n",
      "bed         2.006e+05   5704.396     35.171      0.000    1.89e+05    2.12e+05\n",
      "==============================================================================\n",
      "Omnibus:                      303.402   Durbin-Watson:                   1.498\n",
      "Prob(Omnibus):                  0.000   Jarque-Bera (JB):              390.037\n",
      "Skew:                           0.795   Prob(JB):                     2.02e-85\n",
      "Kurtosis:                       3.512   Cond. No.                         10.1\n",
      "==============================================================================\n",
      "\n",
      "Notes:\n",
      "[1] Standard Errors assume that the covariance matrix of the errors is correctly specified.\n"
     ]
    },
    {
     "data": {
      "image/png": "[encoded data removed]",
      "text/plain": [
       "<Figure size 640x480 with 1 Axes>"
      ]
     },
     "metadata": {},
     "output_type": "display_data"
    }
   ],
   "source": [
    "# OLS Regression with 'bed' as the independent variable\n",
    "X_bed_clean = cleaned_sd_properties[['bed']]\n",
    "y_clean = cleaned_sd_properties['price']\n",
    "\n",
    "# Add a constant to the independent variables matrix\n",
    "X_bed_clean = sm.add_constant(X_bed_clean)\n",
    "\n",
    "# Fit the OLS model\n",
    "model_bed_clean = sm.OLS(y_clean, X_bed_clean).fit()\n",
    "\n",
    "# Print the summary of the model\n",
    "print(model_bed_clean.summary())\n",
    "\n",
    "# Plot the data and the regression line\n",
    "plt.scatter(cleaned_sd_properties['bed'], cleaned_sd_properties['price'], alpha=0.3, label='Data')\n",
    "plt.plot(cleaned_sd_properties['bed'], model_bed_clean.predict(X_bed_clean), '--k', linewidth=4, label='OLS Model Fit')\n",
    "plt.xlabel('Number of Bedrooms')\n",
    "plt.ylabel('Price')\n",
    "plt.legend()\n",
    "plt.title('OLS Regression: Price vs. Number of Bedrooms (Without Outliers)')\n",
    "plt.show()"
   ]
  },
  {
   "cell_type": "markdown",
   "metadata": {},
   "source": [
    "With the outlier removed, we get a R^2 of 0.2, suggesting a weak relationship between bedrooms and price. This reflects the correlation heatmap we produced earlier."
   ]
  },
  {
   "cell_type": "code",
   "execution_count": 41,
   "metadata": {},
   "outputs": [
    {
     "name": "stdout",
     "output_type": "stream",
     "text": [
      "                            OLS Regression Results                            \n",
      "==============================================================================\n",
      "Dep. Variable:                  price   R-squared:                       0.468\n",
      "Model:                            OLS   Adj. R-squared:                  0.467\n",
      "Method:                 Least Squares   F-statistic:                     2946.\n",
      "Date:                Wed, 19 Mar 2025   Prob (F-statistic):               0.00\n",
      "Time:                        16:12:00   Log-Likelihood:                -46880.\n",
      "No. Observations:                3356   AIC:                         9.376e+04\n",
      "Df Residuals:                    3354   BIC:                         9.378e+04\n",
      "Df Model:                           1                                         \n",
      "Covariance Type:            nonrobust                                         \n",
      "==============================================================================\n",
      "                 coef    std err          t      P>|t|      [0.025      0.975]\n",
      "------------------------------------------------------------------------------\n",
      "const       2.384e+05   1.31e+04     18.151      0.000    2.13e+05    2.64e+05\n",
      "house_size   460.9834      8.493     54.278      0.000     444.331     477.635\n",
      "==============================================================================\n",
      "Omnibus:                      400.161   Durbin-Watson:                   1.522\n",
      "Prob(Omnibus):                  0.000   Jarque-Bera (JB):             4133.733\n",
      "Skew:                           0.022   Prob(JB):                         0.00\n",
      "Kurtosis:                       8.437   Cond. No.                     4.17e+03\n",
      "==============================================================================\n",
      "\n",
      "Notes:\n",
      "[1] Standard Errors assume that the covariance matrix of the errors is correctly specified.\n",
      "[2] The condition number is large, 4.17e+03. This might indicate that there are\n",
      "strong multicollinearity or other numerical problems.\n"
     ]
    },
    {
     "data": {
      "image/png": "[encoded data removed]",
      "text/plain": [
       "<Figure size 640x480 with 1 Axes>"
      ]
     },
     "metadata": {},
     "output_type": "display_data"
    }
   ],
   "source": [
    "# OLS Regression with 'house_size' as the independent variable\n",
    "X_house_size_clean = cleaned_sd_properties[['house_size']]\n",
    "y_clean = cleaned_sd_properties['price']\n",
    "\n",
    "# Add a constant to the independent variables matrix\n",
    "X_house_size_clean = sm.add_constant(X_house_size_clean)\n",
    "\n",
    "# Fit the OLS model\n",
    "model_house_size_clean = sm.OLS(y_clean, X_house_size_clean).fit()\n",
    "\n",
    "# Print the summary of the model\n",
    "print(model_house_size_clean.summary())\n",
    "\n",
    "# Plot the data and the regression line\n",
    "plt.scatter(cleaned_sd_properties['house_size'], cleaned_sd_properties['price'], alpha=0.3, label='Data')\n",
    "plt.plot(cleaned_sd_properties['house_size'], model_house_size_clean.predict(X_house_size_clean), '--k', linewidth=4, label='OLS Model Fit')\n",
    "plt.xlabel('House Size (sq ft)')\n",
    "plt.ylabel('Price')\n",
    "plt.legend()\n",
    "plt.title('OLS Regression: Price vs. House Size (Without Outliers)')\n",
    "plt.show()"
   ]
  },
  {
   "cell_type": "markdown",
   "metadata": {},
   "source": [
    "Overall house size returns a slightly higher R^2 of 0.468 which again reflects what we saw in the correlation heatmap.\n",
    "\n",
    "Multicollinearity among house size, bedrooms, and bathrooms indicates that these variables share overlapping information, which can distort regression estimates, and we are using the true price values which have a lot of variance. OLS may not be the best model to handle analysis of multicollinear factors."
   ]
  },
  {
   "cell_type": "markdown",
   "metadata": {},
   "source": [
    "## Enhancing Predictive Accuracy with Random Forest Regression\n",
    "\n",
    "We also test RandomForestRegressor to see if our model can improve, since RandomForest uses decision trees to increase interpretability and takes into account feature performance. For this, we use the normalized price values to improve model performance since our data contains extremely large values."
   ]
  },
  {
   "cell_type": "code",
   "execution_count": 42,
   "metadata": {},
   "outputs": [],
   "source": [
    "# initialize regressor \n",
    "rfregressor = RandomForestRegressor()"
   ]
  },
  {
   "cell_type": "code",
   "execution_count": 43,
   "metadata": {},
   "outputs": [
    {
     "data": {
      "text/html": [
       "<style>#sk-container-id-1 {\n",
       "  /* Definition of color scheme common for light and dark mode */\n",
       "  --sklearn-color-text: #000;\n",
       "  --sklearn-color-text-muted: #666;\n",
       "  --sklearn-color-line: gray;\n",
       "  /* Definition of color scheme for unfitted estimators */\n",
       "  --sklearn-color-unfitted-level-0: #fff5e6;\n",
       "  --sklearn-color-unfitted-level-1: #f6e4d2;\n",
       "  --sklearn-color-unfitted-level-2: #ffe0b3;\n",
       "  --sklearn-color-unfitted-level-3: chocolate;\n",
       "  /* Definition of color scheme for fitted estimators */\n",
       "  --sklearn-color-fitted-level-0: #f0f8ff;\n",
       "  --sklearn-color-fitted-level-1: #d4ebff;\n",
       "  --sklearn-color-fitted-level-2: #b3dbfd;\n",
       "  --sklearn-color-fitted-level-3: cornflowerblue;\n",
       "\n",
       "  /* Specific color for light theme */\n",
       "  --sklearn-color-text-on-default-background: var(--sg-text-color, var(--theme-code-foreground, var(--jp-content-font-color1, black)));\n",
       "  --sklearn-color-background: var(--sg-background-color, var(--theme-background, var(--jp-layout-color0, white)));\n",
       "  --sklearn-color-border-box: var(--sg-text-color, var(--theme-code-foreground, var(--jp-content-font-color1, black)));\n",
       "  --sklearn-color-icon: #696969;\n",
       "\n",
       "  @media (prefers-color-scheme: dark) {\n",
       "    /* Redefinition of color scheme for dark theme */\n",
       "    --sklearn-color-text-on-default-background: var(--sg-text-color, var(--theme-code-foreground, var(--jp-content-font-color1, white)));\n",
       "    --sklearn-color-background: var(--sg-background-color, var(--theme-background, var(--jp-layout-color0, #111)));\n",
       "    --sklearn-color-border-box: var(--sg-text-color, var(--theme-code-foreground, var(--jp-content-font-color1, white)));\n",
       "    --sklearn-color-icon: #878787;\n",
       "  }\n",
       "}\n",
       "\n",
       "#sk-container-id-1 {\n",
       "  color: var(--sklearn-color-text);\n",
       "}\n",
       "\n",
       "#sk-container-id-1 pre {\n",
       "  padding: 0;\n",
       "}\n",
       "\n",
       "#sk-container-id-1 input.sk-hidden--visually {\n",
       "  border: 0;\n",
       "  clip: rect(1px 1px 1px 1px);\n",
       "  clip: rect(1px, 1px, 1px, 1px);\n",
       "  height: 1px;\n",
       "  margin: -1px;\n",
       "  overflow: hidden;\n",
       "  padding: 0;\n",
       "  position: absolute;\n",
       "  width: 1px;\n",
       "}\n",
       "\n",
       "#sk-container-id-1 div.sk-dashed-wrapped {\n",
       "  border: 1px dashed var(--sklearn-color-line);\n",
       "  margin: 0 0.4em 0.5em 0.4em;\n",
       "  box-sizing: border-box;\n",
       "  padding-bottom: 0.4em;\n",
       "  background-color: var(--sklearn-color-background);\n",
       "}\n",
       "\n",
       "#sk-container-id-1 div.sk-container {\n",
       "  /* jupyter's `normalize.less` sets `[hidden] { display: none; }`\n",
       "     but bootstrap.min.css set `[hidden] { display: none !important; }`\n",
       "     so we also need the `!important` here to be able to override the\n",
       "     default hidden behavior on the sphinx rendered scikit-learn.org.\n",
       "     See: https://github.com/scikit-learn/scikit-learn/issues/21755 */\n",
       "  display: inline-block !important;\n",
       "  position: relative;\n",
       "}\n",
       "\n",
       "#sk-container-id-1 div.sk-text-repr-fallback {\n",
       "  display: none;\n",
       "}\n",
       "\n",
       "div.sk-parallel-item,\n",
       "div.sk-serial,\n",
       "div.sk-item {\n",
       "  /* draw centered vertical line to link estimators */\n",
       "  background-image: linear-gradient(var(--sklearn-color-text-on-default-background), var(--sklearn-color-text-on-default-background));\n",
       "  background-size: 2px 100%;\n",
       "  background-repeat: no-repeat;\n",
       "  background-position: center center;\n",
       "}\n",
       "\n",
       "/* Parallel-specific style estimator block */\n",
       "\n",
       "#sk-container-id-1 div.sk-parallel-item::after {\n",
       "  content: \"\";\n",
       "  width: 100%;\n",
       "  border-bottom: 2px solid var(--sklearn-color-text-on-default-background);\n",
       "  flex-grow: 1;\n",
       "}\n",
       "\n",
       "#sk-container-id-1 div.sk-parallel {\n",
       "  display: flex;\n",
       "  align-items: stretch;\n",
       "  justify-content: center;\n",
       "  background-color: var(--sklearn-color-background);\n",
       "  position: relative;\n",
       "}\n",
       "\n",
       "#sk-container-id-1 div.sk-parallel-item {\n",
       "  display: flex;\n",
       "  flex-direction: column;\n",
       "}\n",
       "\n",
       "#sk-container-id-1 div.sk-parallel-item:first-child::after {\n",
       "  align-self: flex-end;\n",
       "  width: 50%;\n",
       "}\n",
       "\n",
       "#sk-container-id-1 div.sk-parallel-item:last-child::after {\n",
       "  align-self: flex-start;\n",
       "  width: 50%;\n",
       "}\n",
       "\n",
       "#sk-container-id-1 div.sk-parallel-item:only-child::after {\n",
       "  width: 0;\n",
       "}\n",
       "\n",
       "/* Serial-specific style estimator block */\n",
       "\n",
       "#sk-container-id-1 div.sk-serial {\n",
       "  display: flex;\n",
       "  flex-direction: column;\n",
       "  align-items: center;\n",
       "  background-color: var(--sklearn-color-background);\n",
       "  padding-right: 1em;\n",
       "  padding-left: 1em;\n",
       "}\n",
       "\n",
       "\n",
       "/* Toggleable style: style used for estimator/Pipeline/ColumnTransformer box that is\n",
       "clickable and can be expanded/collapsed.\n",
       "- Pipeline and ColumnTransformer use this feature and define the default style\n",
       "- Estimators will overwrite some part of the style using the `sk-estimator` class\n",
       "*/\n",
       "\n",
       "/* Pipeline and ColumnTransformer style (default) */\n",
       "\n",
       "#sk-container-id-1 div.sk-toggleable {\n",
       "  /* Default theme specific background. It is overwritten whether we have a\n",
       "  specific estimator or a Pipeline/ColumnTransformer */\n",
       "  background-color: var(--sklearn-color-background);\n",
       "}\n",
       "\n",
       "/* Toggleable label */\n",
       "#sk-container-id-1 label.sk-toggleable__label {\n",
       "  cursor: pointer;\n",
       "  display: flex;\n",
       "  width: 100%;\n",
       "  margin-bottom: 0;\n",
       "  padding: 0.5em;\n",
       "  box-sizing: border-box;\n",
       "  text-align: center;\n",
       "  align-items: start;\n",
       "  justify-content: space-between;\n",
       "  gap: 0.5em;\n",
       "}\n",
       "\n",
       "#sk-container-id-1 label.sk-toggleable__label .caption {\n",
       "  font-size: 0.6rem;\n",
       "  font-weight: lighter;\n",
       "  color: var(--sklearn-color-text-muted);\n",
       "}\n",
       "\n",
       "#sk-container-id-1 label.sk-toggleable__label-arrow:before {\n",
       "  /* Arrow on the left of the label */\n",
       "  content: \"▸\";\n",
       "  float: left;\n",
       "  margin-right: 0.25em;\n",
       "  color: var(--sklearn-color-icon);\n",
       "}\n",
       "\n",
       "#sk-container-id-1 label.sk-toggleable__label-arrow:hover:before {\n",
       "  color: var(--sklearn-color-text);\n",
       "}\n",
       "\n",
       "/* Toggleable content - dropdown */\n",
       "\n",
       "#sk-container-id-1 div.sk-toggleable__content {\n",
       "  max-height: 0;\n",
       "  max-width: 0;\n",
       "  overflow: hidden;\n",
       "  text-align: left;\n",
       "  /* unfitted */\n",
       "  background-color: var(--sklearn-color-unfitted-level-0);\n",
       "}\n",
       "\n",
       "#sk-container-id-1 div.sk-toggleable__content.fitted {\n",
       "  /* fitted */\n",
       "  background-color: var(--sklearn-color-fitted-level-0);\n",
       "}\n",
       "\n",
       "#sk-container-id-1 div.sk-toggleable__content pre {\n",
       "  margin: 0.2em;\n",
       "  border-radius: 0.25em;\n",
       "  color: var(--sklearn-color-text);\n",
       "  /* unfitted */\n",
       "  background-color: var(--sklearn-color-unfitted-level-0);\n",
       "}\n",
       "\n",
       "#sk-container-id-1 div.sk-toggleable__content.fitted pre {\n",
       "  /* unfitted */\n",
       "  background-color: var(--sklearn-color-fitted-level-0);\n",
       "}\n",
       "\n",
       "#sk-container-id-1 input.sk-toggleable__control:checked~div.sk-toggleable__content {\n",
       "  /* Expand drop-down */\n",
       "  max-height: 200px;\n",
       "  max-width: 100%;\n",
       "  overflow: auto;\n",
       "}\n",
       "\n",
       "#sk-container-id-1 input.sk-toggleable__control:checked~label.sk-toggleable__label-arrow:before {\n",
       "  content: \"▾\";\n",
       "}\n",
       "\n",
       "/* Pipeline/ColumnTransformer-specific style */\n",
       "\n",
       "#sk-container-id-1 div.sk-label input.sk-toggleable__control:checked~label.sk-toggleable__label {\n",
       "  color: var(--sklearn-color-text);\n",
       "  background-color: var(--sklearn-color-unfitted-level-2);\n",
       "}\n",
       "\n",
       "#sk-container-id-1 div.sk-label.fitted input.sk-toggleable__control:checked~label.sk-toggleable__label {\n",
       "  background-color: var(--sklearn-color-fitted-level-2);\n",
       "}\n",
       "\n",
       "/* Estimator-specific style */\n",
       "\n",
       "/* Colorize estimator box */\n",
       "#sk-container-id-1 div.sk-estimator input.sk-toggleable__control:checked~label.sk-toggleable__label {\n",
       "  /* unfitted */\n",
       "  background-color: var(--sklearn-color-unfitted-level-2);\n",
       "}\n",
       "\n",
       "#sk-container-id-1 div.sk-estimator.fitted input.sk-toggleable__control:checked~label.sk-toggleable__label {\n",
       "  /* fitted */\n",
       "  background-color: var(--sklearn-color-fitted-level-2);\n",
       "}\n",
       "\n",
       "#sk-container-id-1 div.sk-label label.sk-toggleable__label,\n",
       "#sk-container-id-1 div.sk-label label {\n",
       "  /* The background is the default theme color */\n",
       "  color: var(--sklearn-color-text-on-default-background);\n",
       "}\n",
       "\n",
       "/* On hover, darken the color of the background */\n",
       "#sk-container-id-1 div.sk-label:hover label.sk-toggleable__label {\n",
       "  color: var(--sklearn-color-text);\n",
       "  background-color: var(--sklearn-color-unfitted-level-2);\n",
       "}\n",
       "\n",
       "/* Label box, darken color on hover, fitted */\n",
       "#sk-container-id-1 div.sk-label.fitted:hover label.sk-toggleable__label.fitted {\n",
       "  color: var(--sklearn-color-text);\n",
       "  background-color: var(--sklearn-color-fitted-level-2);\n",
       "}\n",
       "\n",
       "/* Estimator label */\n",
       "\n",
       "#sk-container-id-1 div.sk-label label {\n",
       "  font-family: monospace;\n",
       "  font-weight: bold;\n",
       "  display: inline-block;\n",
       "  line-height: 1.2em;\n",
       "}\n",
       "\n",
       "#sk-container-id-1 div.sk-label-container {\n",
       "  text-align: center;\n",
       "}\n",
       "\n",
       "/* Estimator-specific */\n",
       "#sk-container-id-1 div.sk-estimator {\n",
       "  font-family: monospace;\n",
       "  border: 1px dotted var(--sklearn-color-border-box);\n",
       "  border-radius: 0.25em;\n",
       "  box-sizing: border-box;\n",
       "  margin-bottom: 0.5em;\n",
       "  /* unfitted */\n",
       "  background-color: var(--sklearn-color-unfitted-level-0);\n",
       "}\n",
       "\n",
       "#sk-container-id-1 div.sk-estimator.fitted {\n",
       "  /* fitted */\n",
       "  background-color: var(--sklearn-color-fitted-level-0);\n",
       "}\n",
       "\n",
       "/* on hover */\n",
       "#sk-container-id-1 div.sk-estimator:hover {\n",
       "  /* unfitted */\n",
       "  background-color: var(--sklearn-color-unfitted-level-2);\n",
       "}\n",
       "\n",
       "#sk-container-id-1 div.sk-estimator.fitted:hover {\n",
       "  /* fitted */\n",
       "  background-color: var(--sklearn-color-fitted-level-2);\n",
       "}\n",
       "\n",
       "/* Specification for estimator info (e.g. \"i\" and \"?\") */\n",
       "\n",
       "/* Common style for \"i\" and \"?\" */\n",
       "\n",
       ".sk-estimator-doc-link,\n",
       "a:link.sk-estimator-doc-link,\n",
       "a:visited.sk-estimator-doc-link {\n",
       "  float: right;\n",
       "  font-size: smaller;\n",
       "  line-height: 1em;\n",
       "  font-family: monospace;\n",
       "  background-color: var(--sklearn-color-background);\n",
       "  border-radius: 1em;\n",
       "  height: 1em;\n",
       "  width: 1em;\n",
       "  text-decoration: none !important;\n",
       "  margin-left: 0.5em;\n",
       "  text-align: center;\n",
       "  /* unfitted */\n",
       "  border: var(--sklearn-color-unfitted-level-1) 1pt solid;\n",
       "  color: var(--sklearn-color-unfitted-level-1);\n",
       "}\n",
       "\n",
       ".sk-estimator-doc-link.fitted,\n",
       "a:link.sk-estimator-doc-link.fitted,\n",
       "a:visited.sk-estimator-doc-link.fitted {\n",
       "  /* fitted */\n",
       "  border: var(--sklearn-color-fitted-level-1) 1pt solid;\n",
       "  color: var(--sklearn-color-fitted-level-1);\n",
       "}\n",
       "\n",
       "/* On hover */\n",
       "div.sk-estimator:hover .sk-estimator-doc-link:hover,\n",
       ".sk-estimator-doc-link:hover,\n",
       "div.sk-label-container:hover .sk-estimator-doc-link:hover,\n",
       ".sk-estimator-doc-link:hover {\n",
       "  /* unfitted */\n",
       "  background-color: var(--sklearn-color-unfitted-level-3);\n",
       "  color: var(--sklearn-color-background);\n",
       "  text-decoration: none;\n",
       "}\n",
       "\n",
       "div.sk-estimator.fitted:hover .sk-estimator-doc-link.fitted:hover,\n",
       ".sk-estimator-doc-link.fitted:hover,\n",
       "div.sk-label-container:hover .sk-estimator-doc-link.fitted:hover,\n",
       ".sk-estimator-doc-link.fitted:hover {\n",
       "  /* fitted */\n",
       "  background-color: var(--sklearn-color-fitted-level-3);\n",
       "  color: var(--sklearn-color-background);\n",
       "  text-decoration: none;\n",
       "}\n",
       "\n",
       "/* Span, style for the box shown on hovering the info icon */\n",
       ".sk-estimator-doc-link span {\n",
       "  display: none;\n",
       "  z-index: 9999;\n",
       "  position: relative;\n",
       "  font-weight: normal;\n",
       "  right: .2ex;\n",
       "  padding: .5ex;\n",
       "  margin: .5ex;\n",
       "  width: min-content;\n",
       "  min-width: 20ex;\n",
       "  max-width: 50ex;\n",
       "  color: var(--sklearn-color-text);\n",
       "  box-shadow: 2pt 2pt 4pt #999;\n",
       "  /* unfitted */\n",
       "  background: var(--sklearn-color-unfitted-level-0);\n",
       "  border: .5pt solid var(--sklearn-color-unfitted-level-3);\n",
       "}\n",
       "\n",
       ".sk-estimator-doc-link.fitted span {\n",
       "  /* fitted */\n",
       "  background: var(--sklearn-color-fitted-level-0);\n",
       "  border: var(--sklearn-color-fitted-level-3);\n",
       "}\n",
       "\n",
       ".sk-estimator-doc-link:hover span {\n",
       "  display: block;\n",
       "}\n",
       "\n",
       "/* \"?\"-specific style due to the `<a>` HTML tag */\n",
       "\n",
       "#sk-container-id-1 a.estimator_doc_link {\n",
       "  float: right;\n",
       "  font-size: 1rem;\n",
       "  line-height: 1em;\n",
       "  font-family: monospace;\n",
       "  background-color: var(--sklearn-color-background);\n",
       "  border-radius: 1rem;\n",
       "  height: 1rem;\n",
       "  width: 1rem;\n",
       "  text-decoration: none;\n",
       "  /* unfitted */\n",
       "  color: var(--sklearn-color-unfitted-level-1);\n",
       "  border: var(--sklearn-color-unfitted-level-1) 1pt solid;\n",
       "}\n",
       "\n",
       "#sk-container-id-1 a.estimator_doc_link.fitted {\n",
       "  /* fitted */\n",
       "  border: var(--sklearn-color-fitted-level-1) 1pt solid;\n",
       "  color: var(--sklearn-color-fitted-level-1);\n",
       "}\n",
       "\n",
       "/* On hover */\n",
       "#sk-container-id-1 a.estimator_doc_link:hover {\n",
       "  /* unfitted */\n",
       "  background-color: var(--sklearn-color-unfitted-level-3);\n",
       "  color: var(--sklearn-color-background);\n",
       "  text-decoration: none;\n",
       "}\n",
       "\n",
       "#sk-container-id-1 a.estimator_doc_link.fitted:hover {\n",
       "  /* fitted */\n",
       "  background-color: var(--sklearn-color-fitted-level-3);\n",
       "}\n",
       "</style><div id=\"sk-container-id-1\" class=\"sk-top-container\"><div class=\"sk-text-repr-fallback\"><pre>RandomForestRegressor()</pre><b>In a Jupyter environment, please rerun this cell to show the HTML representation or trust the notebook. <br />On GitHub, the HTML representation is unable to render, please try loading this page with nbviewer.org.</b></div><div class=\"sk-container\" hidden><div class=\"sk-item\"><div class=\"sk-estimator fitted sk-toggleable\"><input class=\"sk-toggleable__control sk-hidden--visually\" id=\"sk-estimator-id-1\" type=\"checkbox\" checked><label for=\"sk-estimator-id-1\" class=\"sk-toggleable__label fitted sk-toggleable__label-arrow\"><div><div>RandomForestRegressor</div></div><div><a class=\"sk-estimator-doc-link fitted\" rel=\"noreferrer\" target=\"_blank\" href=\"https://scikit-learn.org/1.6/modules/generated/sklearn.ensemble.RandomForestRegressor.html\">?<span>Documentation for RandomForestRegressor</span></a><span class=\"sk-estimator-doc-link fitted\">i<span>Fitted</span></span></div></label><div class=\"sk-toggleable__content fitted\"><pre>RandomForestRegressor()</pre></div> </div></div></div></div>"
      ],
      "text/plain": [
       "RandomForestRegressor()"
      ]
     },
     "execution_count": 43,
     "metadata": {},
     "output_type": "execute_result"
    }
   ],
   "source": [
    "# fit the regressor\n",
    "rfregressor.fit(X_train, y_train)"
   ]
  },
  {
   "cell_type": "code",
   "execution_count": 44,
   "metadata": {},
   "outputs": [],
   "source": [
    "# predict regressor \n",
    "y_pred = rfregressor.predict(X_test)"
   ]
  },
  {
   "cell_type": "markdown",
   "metadata": {},
   "source": [
    "We convert the price back to the true value for a point of comparison."
   ]
  },
  {
   "cell_type": "code",
   "execution_count": 45,
   "metadata": {},
   "outputs": [],
   "source": [
    "# revert normalized prices to true values \n",
    "y_test_org = np.exp(y_test)\n",
    "y_pred_org = np.exp(y_pred)"
   ]
  },
  {
   "cell_type": "code",
   "execution_count": 46,
   "metadata": {},
   "outputs": [
    {
     "name": "stdout",
     "output_type": "stream",
     "text": [
      "0.2821927922579978\n",
      "794279.8781903086\n",
      "0.4256672899214395\n",
      "0.720218883825958\n"
     ]
    }
   ],
   "source": [
    "# check root mean squared error \n",
    "print(root_mean_squared_error(y_test, y_pred))\n",
    "print(root_mean_squared_error(y_test_org, y_pred_org))\n",
    "# check percent root mean squared error \n",
    "print(np.sqrt(np.mean(np.square((y_test_org - y_pred_org) / y_test_org))))\n",
    "# check R^2 score of regression \n",
    "print(rfregressor.score(X_test, y_test))"
   ]
  },
  {
   "cell_type": "markdown",
   "metadata": {},
   "source": [
    "We see that our model predicts within 40% of the true price and has an R^2 score of 0.733. The RandomForest regression suggests that our housing features are moderately correlated with price.\n",
    "\n",
    "We also test StandardScaler to see if a different method might improve model performance."
   ]
  },
  {
   "cell_type": "code",
   "execution_count": 47,
   "metadata": {},
   "outputs": [],
   "source": [
    "# initialize regressor \n",
    "regressor = RandomForestRegressor()"
   ]
  },
  {
   "cell_type": "code",
   "execution_count": 48,
   "metadata": {},
   "outputs": [],
   "source": [
    "# scale with StandardScaler \n",
    "st_scaler = StandardScaler()\n",
    "df_st_scaled = st_scaler.fit_transform(df_combined.drop(columns=['price', 'city','state', 'price_norm']))"
   ]
  },
  {
   "cell_type": "code",
   "execution_count": 49,
   "metadata": {},
   "outputs": [],
   "source": [
    "# train test split with standardized data \n",
    "X_s_train, X_s_test, y_s_train, y_s_test = train_test_split(df_st_scaled, price_norm, test_size=0.2, random_state=42)"
   ]
  },
  {
   "cell_type": "code",
   "execution_count": 50,
   "metadata": {},
   "outputs": [],
   "source": [
    "# fit and predict from standardized data \n",
    "regressor.fit(X_s_train, y_s_train)\n",
    "y_s_pred = regressor.predict(X_s_test)"
   ]
  },
  {
   "cell_type": "code",
   "execution_count": 51,
   "metadata": {},
   "outputs": [],
   "source": [
    "# revert normalized prices to true values \n",
    "y_s_test_org = np.exp(y_s_test)\n",
    "y_s_pred_org = np.exp(y_s_pred)"
   ]
  },
  {
   "cell_type": "code",
   "execution_count": 52,
   "metadata": {},
   "outputs": [
    {
     "name": "stdout",
     "output_type": "stream",
     "text": [
      "0.2761890893798658\n",
      "794185.0843024818\n",
      "0.402055830043376\n",
      "0.7319970336258426\n"
     ]
    }
   ],
   "source": [
    "# check error \n",
    "print(root_mean_squared_error(y_s_test, y_s_pred))\n",
    "print(root_mean_squared_error(y_s_test_org, y_s_pred_org))\n",
    "# check percent rmse \n",
    "print(np.sqrt(np.mean(np.square((y_s_test_org - y_s_pred_org) / y_s_test_org))))\n",
    "# check R^2 score of regression \n",
    "print(regressor.score(X_s_test, y_s_test))"
   ]
  },
  {
   "cell_type": "markdown",
   "metadata": {},
   "source": [
    "We see that StandardScaler produces a similar error and R^2 value to MinMaxScaler. We decided to test our unscaled data and compare it to the scaled data."
   ]
  },
  {
   "cell_type": "code",
   "execution_count": 53,
   "metadata": {},
   "outputs": [],
   "source": [
    "price=df_combined['price']\n",
    "\n",
    "# train test split on true values \n",
    "X_true_train, X_true_test, y_true_train, y_true_test = train_test_split(df_combined.drop(columns=['price','city','state', 'price_norm', 'zip_code']), price, test_size=0.2, random_state=42)"
   ]
  },
  {
   "cell_type": "code",
   "execution_count": 54,
   "metadata": {},
   "outputs": [],
   "source": [
    "# initialize regressor \n",
    "regressor = RandomForestRegressor()\n",
    "# fit regressor \n",
    "regressor.fit(X_true_train, y_true_train)\n",
    "# predict price from regressor \n",
    "y_true_pred = regressor.predict(X_true_test)"
   ]
  },
  {
   "cell_type": "code",
   "execution_count": 55,
   "metadata": {},
   "outputs": [
    {
     "name": "stdout",
     "output_type": "stream",
     "text": [
      "1206657.507904089\n",
      "1.6385618787006213\n",
      "-0.6722720844073109\n"
     ]
    }
   ],
   "source": [
    "# check error \n",
    "print(root_mean_squared_error(y_true_test, y_true_pred))\n",
    "# check percent rmse \n",
    "print(np.sqrt(np.mean(np.square((y_true_test - y_true_pred) / y_true_test))))\n",
    "# check R^2 score of regression \n",
    "print(regressor.score(X_true_test, y_true_test))"
   ]
  },
  {
   "cell_type": "markdown",
   "metadata": {},
   "source": [
    "The unscaled data performs much worse and suggests negative correlation which is not what we expect to see from the data.\n",
    "\n",
    "We plot the predictions to try and identify why the model is off."
   ]
  },
  {
   "cell_type": "code",
   "execution_count": 56,
   "metadata": {},
   "outputs": [
    {
     "data": {
      "text/plain": [
       "<matplotlib.collections.PathCollection at 0x223395ba630>"
      ]
     },
     "execution_count": 56,
     "metadata": {},
     "output_type": "execute_result"
    },
    {
     "data": {
      "image/png": "[encoded data removed]",
      "text/plain": [
       "<Figure size 640x480 with 1 Axes>"
      ]
     },
     "metadata": {},
     "output_type": "display_data"
    }
   ],
   "source": [
    "# plot results for unscaled data \n",
    "plt.scatter(x=range(len(y_true_pred)), y=y_true_pred)\n",
    "plt.scatter(x=range(len(y_true_test)), y=y_true_test)"
   ]
  },
  {
   "cell_type": "code",
   "execution_count": 57,
   "metadata": {},
   "outputs": [
    {
     "data": {
      "text/plain": [
       "<matplotlib.collections.PathCollection at 0x2233991dee0>"
      ]
     },
     "execution_count": 57,
     "metadata": {},
     "output_type": "execute_result"
    },
    {
     "data": {
      "image/png": "[encoded data removed]",
      "text/plain": [
       "<Figure size 640x480 with 1 Axes>"
      ]
     },
     "metadata": {},
     "output_type": "display_data"
    }
   ],
   "source": [
    "# plot error of true prices from MinMax scaled data\n",
    "plt.scatter(x=range(len(y_true_pred)), y=(y_true_pred-y_true_test))"
   ]
  },
  {
   "cell_type": "markdown",
   "metadata": {},
   "source": [
    "We observe the presence of a few extreme  outliers in the predictions.\n",
    "\n",
    "Given that house size, number of bedrooms, and number of bathrooms are likely collinear, we apply Principal Component Analysis (PCA) to reduce dimensionality. This transformation helps condense overlapping information into fewer components, potentially improving the model’s performance by minimizing redundancy and mitigating multicollinearity."
   ]
  },
  {
   "cell_type": "code",
   "execution_count": 58,
   "metadata": {},
   "outputs": [],
   "source": [
    "pca = PCA(n_components=0.95)\n",
    "\n",
    "df_pca = pd.DataFrame(pca.fit_transform(df_scaled))"
   ]
  },
  {
   "cell_type": "code",
   "execution_count": 59,
   "metadata": {},
   "outputs": [],
   "source": [
    "# create train and test sets \n",
    "X_pca_train, X_pca_test, y_pca_train, y_pca_test = train_test_split(df_pca, price_norm, test_size=0.2, random_state=42)"
   ]
  },
  {
   "cell_type": "code",
   "execution_count": 60,
   "metadata": {},
   "outputs": [
    {
     "name": "stdout",
     "output_type": "stream",
     "text": [
      "0.30004242430438127\n",
      "741173.7859972899\n",
      "0.4121609352740306\n",
      "0.6837053133098105\n"
     ]
    }
   ],
   "source": [
    "# initialize regressor \n",
    "pca_regressor = RandomForestRegressor()\n",
    "\n",
    "# fit and predict from regressor \n",
    "pca_regressor.fit(X_pca_train, y_pca_train)\n",
    "y_pca_pred = pca_regressor.predict(X_pca_test)\n",
    "\n",
    "# revert normalized prices to true values \n",
    "y_pca_test_org = np.exp(y_pca_test)\n",
    "y_pca_pred_org = np.exp(y_pca_pred)\n",
    "\n",
    "# check error \n",
    "print(root_mean_squared_error(y_pca_test, y_pca_pred))\n",
    "print(root_mean_squared_error(y_pca_test_org, y_pca_pred_org))\n",
    "# check percent rmse \n",
    "print(np.sqrt(np.mean(np.square((y_pca_test_org - y_pca_pred_org) / y_pca_test_org))))\n",
    "# check R^2 score of regression \n",
    "print(pca_regressor.score(X_pca_test, y_pca_test))"
   ]
  },
  {
   "cell_type": "markdown",
   "metadata": {},
   "source": [
    "We find that PCA does not improve our model compared to just using MinMaxScaler. However, observing RandomForestRegressor's performance on the scaled data suggests that it was not as distorted by multicollinearity as a simple regression model like OLS."
   ]
  },
  {
   "cell_type": "markdown",
   "metadata": {},
   "source": [
    "## Results and Discussion\n",
    "\n",
    "We began our analysis by exploring the dataset to understand the distribution of key housing variables, identify potential outliers, and examine relationships between different attributes.\n",
    "\n",
    "Exploratory Data Analysis (EDA)\n",
    "\n",
    "Our initial analysis focused on understanding the distribution of key housing attributes. Home prices in San Diego are right-skewed, meaning a few very expensive properties drive up the average, while most homes fall within a lower price range. House size, bedrooms, and bathrooms tend to cluster around common values, with larger homes being less frequent. Lot sizes vary significantly, with some properties having much larger land areas than others.\n",
    "\n",
    "Outliers in the Dataset\n",
    "\n",
    "We identified several outliers in the dataset. Some homes are priced significantly higher than the majority, likely luxury properties in desirable neighborhoods. Similarly, some homes have extremely large house and lot sizes, which could distort analysis if not accounted for. On the other end, certain homes have unusually low prices, which may indicate data errors or incomplete records. To mitigate these issues, we applied log transformations and normalization techniques to improve model performance.\n",
    "\n",
    "\n",
    "Relationship Between Variables\n",
    "\n",
    "Our correlation analysis revealed key relationships between housing attributes. House size, number of bedrooms, and number of bathrooms are strongly correlated, meaning larger homes tend to have more bedrooms and bathrooms. Price and house size have a moderate correlation, confirming that larger homes generally cost more. However, lot size shows little correlation with price, suggesting that land area alone does not significantly impact home values. Additionally, certain zip codes have a much higher number of listings, indicating that location plays a major role in housing supply and demand."
   ]
  },
  {
   "cell_type": "markdown",
   "metadata": {},
   "source": [
    "# Ethics & Privacy"
   ]
  },
  {
   "cell_type": "markdown",
   "metadata": {},
   "source": [
    "When analyzing housing data, it is important to consider ethical concerns related to privacy, bias, and fairness. Our dataset includes real estate listings with location-based attributes such as zip codes and home prices, which could raise privacy concerns if personally identifiable information (PII) were included. However, since our dataset focuses only on property details without individual ownership data, privacy risks are minimal.\n",
    "\n",
    "A key ethical concern is bias in the data. Housing prices are influenced by historical and systemic factors, including socioeconomic disparities and redlining. If our model were used in real estate decision-making, it could unintentionally reinforce existing inequalities. To address this, we acknowledge potential biases in the dataset and interpret results with caution, ensuring that price predictions are understood in the broader social and economic context.\n",
    "\n",
    "Additionally, we must consider the fair use of data. Our dataset comes from publicly available sources, and we adhere to terms of use by ensuring that the data is used solely for educational and research purposes. No personally sensitive information is exposed or misused in our analysis.\n",
    "\n",
    "By addressing these ethical and privacy considerations, we aim to conduct a responsible and transparent analysis of the San Diego housing market while being mindful of its broader societal impact.\n"
   ]
  },
  {
   "cell_type": "markdown",
   "metadata": {},
   "source": [
    "# Team Contributions\n",
    "\n",
    "Introduction and background research was written by John Zhou\n",
    "\n",
    "Katherine Gao\n",
    "- found realtor dataset\n",
    "- performed data visualizaton on realtor dataset\n",
    "- performed feature engineering and RandomForest regression on realtor dataset"
   ]
  }
 ],
 "metadata": {
  "kernelspec": {
   "display_name": "Python 3",
   "language": "python",
   "name": "python3"
  },
  "language_info": {
   "codemirror_mode": {
    "name": "ipython",
    "version": 3
   },
   "file_extension": ".py",
   "mimetype": "text/x-python",
   "name": "python",
   "nbconvert_exporter": "python",
   "pygments_lexer": "ipython3",
   "version": "3.12.4"
  }
 },
 "nbformat": 4,
 "nbformat_minor": 4
}
